{
 "cells": [
  {
   "cell_type": "markdown",
   "metadata": {},
   "source": [
    "# Chapter 6\n",
    "\n",
    "[Chapter 6](https://learn.deeplearning.ai/courses/langchain/lesson/6/evaluation) was about evaluation, i.e. unit testing the implementation from chapter 5.\n",
    "\n",
    "So let's see howe the Wittmann-Tours example works under the hood."
   ]
  },
  {
   "cell_type": "markdown",
   "metadata": {},
   "source": [
    "## Wittmann Tours basic setup"
   ]
  },
  {
   "cell_type": "code",
   "execution_count": 1,
   "metadata": {},
   "outputs": [],
   "source": [
    "import os\n",
    "import glob\n",
    "\n",
    "def get_blog_post_files(path_to_blog):\n",
    "\n",
    "    pattern = os.path.join(path_to_blog, \"**/*.md\")\n",
    "    return sorted(glob.glob(pattern, recursive=True))\n",
    "\n",
    "def get_blogpost(path_to_blogpost):\n",
    "    with open(path_to_blogpost, 'r') as file:\n",
    "        content = file.read()\n",
    "\n",
    "    return content"
   ]
  },
  {
   "cell_type": "code",
   "execution_count": 2,
   "metadata": {},
   "outputs": [
    {
     "data": {
      "text/plain": [
       "['./../wt-blogposts/3-tage-in-melbourne/index.md',\n",
       " './../wt-blogposts/addis-abeba-die-hauptstadt-athiopiens/index.md',\n",
       " './../wt-blogposts/aksum-aufbewahrungsort-der-bundeslade/index.md',\n",
       " './../wt-blogposts/am-fusse-des-cotopaxi/index.md',\n",
       " './../wt-blogposts/an-der-grenze-von-mexiko-nach-belize/index.md']"
      ]
     },
     "execution_count": 2,
     "metadata": {},
     "output_type": "execute_result"
    }
   ],
   "source": [
    "blogpost_files = get_blog_post_files(\"./../wt-blogposts\")\n",
    "blogpost_files[0:5]"
   ]
  },
  {
   "cell_type": "code",
   "execution_count": 3,
   "metadata": {},
   "outputs": [],
   "source": [
    "blogposts = [get_blogpost(path_to_blogpost) for path_to_blogpost in blogpost_files]"
   ]
  },
  {
   "cell_type": "code",
   "execution_count": 4,
   "metadata": {},
   "outputs": [
    {
     "name": "stdout",
     "output_type": "stream",
     "text": [
      "# 3 Tage in Melbourne\n",
      "\n",
      "Auch wenn Canberra die offizielle Hauptstadt Australiens ist, so liefern sich Melbourne und Sydney als die beiden größten Städte des Kontinents ein Wettrennen um die Wahrnehmung als geistige Kapitale des Landes. Nach relativ viel Naturprogramm besuchten wir Melbourne, „[the world's most liveable city](https://www.smh.com.au/business/the-economy/melbourne-named-worlds-most-liveable-city-by-the-economist-for-seventh-year-20170816-gxx1kg.html)“, zu der sie der Economist wiederholt gekürt hat. \n"
     ]
    }
   ],
   "source": [
    "print(blogposts[0][317:835])"
   ]
  },
  {
   "cell_type": "code",
   "execution_count": 5,
   "metadata": {},
   "outputs": [],
   "source": [
    "from IPython.display import display, Markdown\n",
    "\n",
    "def display_response(response):\n",
    "    display(Markdown(response))"
   ]
  },
  {
   "cell_type": "markdown",
   "metadata": {},
   "source": [
    "## Recreate Wittmann-Tours Mini-Rag"
   ]
  },
  {
   "cell_type": "code",
   "execution_count": 6,
   "metadata": {},
   "outputs": [
    {
     "data": {
      "text/plain": [
       "True"
      ]
     },
     "execution_count": 6,
     "metadata": {},
     "output_type": "execute_result"
    }
   ],
   "source": [
    "import os\n",
    "from dotenv import load_dotenv\n",
    "\n",
    "load_dotenv() #contains the OPENAI_API_KEY"
   ]
  },
  {
   "cell_type": "markdown",
   "metadata": {},
   "source": [
    "Langchain is evolving fast, and below I ran into quite a few issues, but upgrading to the latest version fixed that."
   ]
  },
  {
   "cell_type": "code",
   "execution_count": 7,
   "metadata": {},
   "outputs": [],
   "source": [
    "#!pip install --upgrade langchain\n",
    "#!pip install --upgrade langchain_openai\n",
    "#!pip install --upgrade langchain_community\n"
   ]
  },
  {
   "cell_type": "code",
   "execution_count": 8,
   "metadata": {},
   "outputs": [],
   "source": [
    "from langchain_openai import ChatOpenAI\n",
    "from langchain_openai import OpenAIEmbeddings\n",
    "\n",
    "# Initialize the LLM\n",
    "llm = ChatOpenAI(model=\"gpt-4o-mini\", temperature=0)\n",
    "\n",
    "# Initialize the embedding model\n",
    "embedding = OpenAIEmbeddings()"
   ]
  },
  {
   "cell_type": "code",
   "execution_count": 9,
   "metadata": {},
   "outputs": [
    {
     "name": "stderr",
     "output_type": "stream",
     "text": [
      "/Users/chrwittm/miniforge3/lib/python3.10/site-packages/pydantic/_migration.py:283: UserWarning: `pydantic.error_wrappers:ValidationError` has been moved to `pydantic:ValidationError`.\n",
      "  warnings.warn(f'`{import_path}` has been moved to `{new_location}`.')\n"
     ]
    }
   ],
   "source": [
    "from langchain.document_loaders import UnstructuredMarkdownLoader\n",
    "from langchain.indexes import VectorstoreIndexCreator\n",
    "from langchain.vectorstores import DocArrayInMemorySearch\n",
    "\n",
    "loaders = [UnstructuredMarkdownLoader(blogpost_file) for blogpost_file in blogpost_files]\n",
    "\n",
    "index = VectorstoreIndexCreator(\n",
    "    vectorstore_cls=DocArrayInMemorySearch,\n",
    "    embedding=embedding\n",
    ").from_loaders(loaders)"
   ]
  },
  {
   "cell_type": "code",
   "execution_count": 10,
   "metadata": {},
   "outputs": [
    {
     "data": {
      "text/markdown": [
       "Der Campingplatz hieß Bimbi Park."
      ],
      "text/plain": [
       "<IPython.core.display.Markdown object>"
      ]
     },
     "metadata": {},
     "output_type": "display_data"
    }
   ],
   "source": [
    "query = \"Wie hieß der Camping Platz unter den Koalas?\"\n",
    "response = index.query(query, llm = llm)\n",
    "\n",
    "display_response(response)"
   ]
  },
  {
   "cell_type": "markdown",
   "metadata": {},
   "source": [
    "## My QA-examples"
   ]
  },
  {
   "cell_type": "code",
   "execution_count": 11,
   "metadata": {},
   "outputs": [],
   "source": [
    "examples = [\n",
    "    {\n",
    "        \"query\": \"Wie hieß unser Guide im Masoala Regenwald?\",\n",
    "        \"answer\": \"Armand\"\n",
    "    },\n",
    "    {\n",
    "        \"query\": \"Wie hieß der Camping Platz unter den Koalas?\",\n",
    "        \"answer\": \"Bimbi Park\"\n",
    "    }\n",
    "]"
   ]
  },
  {
   "cell_type": "markdown",
   "metadata": {},
   "source": [
    "## LLM-generated examples"
   ]
  },
  {
   "cell_type": "code",
   "execution_count": 12,
   "metadata": {},
   "outputs": [],
   "source": [
    "from langchain.evaluation.qa import QAGenerateChain\n",
    "\n",
    "example_gen_chain = QAGenerateChain.from_llm(llm)"
   ]
  },
  {
   "cell_type": "markdown",
   "metadata": {},
   "source": [
    "Let's just create one example:"
   ]
  },
  {
   "cell_type": "code",
   "execution_count": 13,
   "metadata": {},
   "outputs": [
    {
     "name": "stderr",
     "output_type": "stream",
     "text": [
      "/Users/chrwittm/miniforge3/lib/python3.10/site-packages/langchain/chains/llm.py:369: UserWarning: The apply_and_parse method is deprecated, instead pass an output parser directly to LLMChain.\n",
      "  warnings.warn(\n"
     ]
    },
    {
     "name": "stdout",
     "output_type": "stream",
     "text": [
      "[{'qa_pairs': {'query': 'What are some of the key features that distinguish Melbourne from Sydney, as mentioned in the document \"3 Tage in Melbourne\"?', 'answer': 'Melbourne is distinguished from Sydney by its impressive buildings from the Gold Rush era, a rich art and culture scene, diverse shopping opportunities, and a variety of gastronomy. While Sydney is noted for its unique coastal location, Melbourne is characterized by its colonial architecture, such as the Flinders Street Station, and its European-style lanes and arcades. Additionally, Melbourne is perceived as less overwhelming due to its limited number of skyscrapers in the city center, contributing to a more intimate urban experience.'}}]\n"
     ]
    }
   ],
   "source": [
    "new_example = example_gen_chain.apply_and_parse([{\"doc\": blogposts[0]}])\n",
    "print(new_example)"
   ]
  },
  {
   "cell_type": "markdown",
   "metadata": {},
   "source": [
    "There are at least two major problems with this new question:\n",
    "\n",
    "- It is in the wrong language: English questions will not be answered correctly, because the origin sources in German.\n",
    "- The question is too broad because it talks about \"the document\", and it does not relate to the title. Therefore, during retrieval, it would be hard to find the original source.\n",
    "\n",
    "To fix this, let's update the prompt template."
   ]
  },
  {
   "cell_type": "code",
   "execution_count": 14,
   "metadata": {},
   "outputs": [
    {
     "data": {
      "text/plain": [
       "PromptTemplate(input_variables=['doc'], input_types={}, partial_variables={}, template='You are a teacher coming up with questions to ask on a quiz. \\nGiven the following document, please generate a question and answer based on that document.\\n\\nExample Format:\\n<Begin Document>\\n...\\n<End Document>\\nQUESTION: question here\\nANSWER: answer here\\n\\nThese questions should be detailed and be based explicitly on information in the document. Begin!\\n\\n<Begin Document>\\n{doc}\\n<End Document>')"
      ]
     },
     "execution_count": 14,
     "metadata": {},
     "output_type": "execute_result"
    }
   ],
   "source": [
    "example_gen_chain.prompt"
   ]
  },
  {
   "cell_type": "markdown",
   "metadata": {},
   "source": [
    "Here is the original prompt template:"
   ]
  },
  {
   "cell_type": "code",
   "execution_count": 15,
   "metadata": {},
   "outputs": [
    {
     "name": "stdout",
     "output_type": "stream",
     "text": [
      "You are a teacher coming up with questions to ask on a quiz. \n",
      "Given the following document, please generate a question and answer based on that document.\n",
      "\n",
      "Example Format:\n",
      "<Begin Document>\n",
      "...\n",
      "<End Document>\n",
      "QUESTION: question here\n",
      "ANSWER: answer here\n",
      "\n",
      "These questions should be detailed and be based explicitly on information in the document. Begin!\n",
      "\n",
      "<Begin Document>\n",
      "{doc}\n",
      "<End Document>\n"
     ]
    }
   ],
   "source": [
    "print(example_gen_chain.prompt.template)"
   ]
  },
  {
   "cell_type": "markdown",
   "metadata": {},
   "source": [
    "Here is the new prompt template, notice that the keywords are still in English: QUESTION, ANSWER"
   ]
  },
  {
   "cell_type": "code",
   "execution_count": 16,
   "metadata": {},
   "outputs": [],
   "source": [
    "from langchain.prompts import PromptTemplate\n",
    "\n",
    "german_prompt_template = \"\"\"\n",
    "Du bist ein Lehrer, der Quizfragen entwickelt. \n",
    "Basierend auf dem folgenden Blogbeitrag, erstelle bitte eine spezifische Frage und eine passende Antwort, die sich direkt auf den Inhalt dieses Blogbeitrags beziehen.\n",
    "\n",
    "Achte darauf, dass die Frage zu einem bestimmten Thema des Blogbeitrags passt, damit sie sich auf eine genaue Stelle des Dokuments bezieht. Da wir ein Retrieval-Augmented-Generation-Modell testen, sollte die Frage so gestaltet sein, dass die Antwort aus dem Dokument eindeutig abgeleitet werden kann.\n",
    "\n",
    "Beispielformat:\n",
    "<Begin Dokument>\n",
    "...\n",
    "<End Dokument>\n",
    "QUESTION: Frage hier\n",
    "ANSWER: Antwort hier\n",
    "\n",
    "Diese Fragen sollten detailliert sein und sich ausdrücklich auf Informationen im Dokument beziehen. Los geht's!\n",
    "\n",
    "<Begin Dokument>\n",
    "{doc}\n",
    "<End Dokument>\n",
    "\"\"\"\n",
    "\n",
    "qa_prompt = PromptTemplate(template=german_prompt_template, input_variables=[\"doc\"])\n",
    "\n"
   ]
  },
  {
   "cell_type": "code",
   "execution_count": 17,
   "metadata": {},
   "outputs": [
    {
     "name": "stderr",
     "output_type": "stream",
     "text": [
      "/Users/chrwittm/miniforge3/lib/python3.10/site-packages/langchain/chains/llm.py:369: UserWarning: The apply_and_parse method is deprecated, instead pass an output parser directly to LLMChain.\n",
      "  warnings.warn(\n"
     ]
    },
    {
     "name": "stdout",
     "output_type": "stream",
     "text": [
      "[{'qa_pairs': {'query': 'Welche Sehenswürdigkeit in Melbourne wird als ältester Bahnhof der Stadt beschrieben und was ist ein auffälliges Merkmal dieses Bahnhofs?', 'answer': 'Die Flinders Street Station wird als Melbournes ältester Bahnhof beschrieben. Ein auffälliges Merkmal sind die vielen Uhren über dem Eingang, die nicht die Zeit in verschiedenen Städten der Welt anzeigen, sondern den Zeitpunkt der Abfahrt der nächsten Züge.'}}]\n"
     ]
    }
   ],
   "source": [
    "# Update the QAGenerateChain with the new prompt template\n",
    "example_gen_chain.prompt = qa_prompt\n",
    "\n",
    "# Genberate a new example\n",
    "new_example = example_gen_chain.apply_and_parse([{\"doc\": blogposts[0]}])\n",
    "\n",
    "print(new_example)"
   ]
  },
  {
   "cell_type": "markdown",
   "metadata": {},
   "source": [
    "Besser :)"
   ]
  },
  {
   "cell_type": "code",
   "execution_count": 18,
   "metadata": {},
   "outputs": [
    {
     "name": "stderr",
     "output_type": "stream",
     "text": [
      "/Users/chrwittm/miniforge3/lib/python3.10/site-packages/langchain/chains/llm.py:369: UserWarning: The apply_and_parse method is deprecated, instead pass an output parser directly to LLMChain.\n",
      "  warnings.warn(\n",
      "/Users/chrwittm/miniforge3/lib/python3.10/site-packages/langchain/chains/llm.py:369: UserWarning: The apply_and_parse method is deprecated, instead pass an output parser directly to LLMChain.\n",
      "  warnings.warn(\n",
      "/Users/chrwittm/miniforge3/lib/python3.10/site-packages/langchain/chains/llm.py:369: UserWarning: The apply_and_parse method is deprecated, instead pass an output parser directly to LLMChain.\n",
      "  warnings.warn(\n",
      "/Users/chrwittm/miniforge3/lib/python3.10/site-packages/langchain/chains/llm.py:369: UserWarning: The apply_and_parse method is deprecated, instead pass an output parser directly to LLMChain.\n",
      "  warnings.warn(\n",
      "/Users/chrwittm/miniforge3/lib/python3.10/site-packages/langchain/chains/llm.py:369: UserWarning: The apply_and_parse method is deprecated, instead pass an output parser directly to LLMChain.\n",
      "  warnings.warn(\n"
     ]
    },
    {
     "name": "stdout",
     "output_type": "stream",
     "text": [
      "[{'query': 'Welche Sehenswürdigkeit in Melbourne wird als ältester Bahnhof der Stadt beschrieben und was ist ein auffälliges Merkmal dieses Bahnhofs?', 'answer': 'Die Flinders Street Station wird als Melbournes ältester Bahnhof beschrieben. Ein auffälliges Merkmal sind die vielen Uhren über dem Eingang, die nicht die Zeit in verschiedenen Städten der Welt anzeigen, sondern den Zeitpunkt der Abfahrt der nächsten Züge.'}, {'query': 'Welche Bedeutung hatte der Eukalyptusbaum für die Entwicklung von Addis Abeba, und welche Probleme brachte seine Einführung mit sich?', 'answer': 'Der Eukalyptusbaum wurde in Addis Abeba eingeführt und angepflanzt, um das Problem des Mangels an Feuerholz zu lösen, da dessen Transportwege weit waren. Obwohl der Eukalyptusbaum den Bedarf an Brennstoff deckte, verdrängte er einheimische Pflanzen durch sein schnelles Wachstum und seinen großen Wasserbedarf.'}, {'query': 'Welche Rolle spielt die Kirche der Heiligen Maria von Zion in Aksum in der Geschichte der äthiopisch-orthodoxen Kirche und welche Bedeutung hat sie für die äthiopischen Kaiser?', 'answer': 'Die Kirche der Heiligen Maria von Zion wurde im 4. Jahrhundert nach Christus erbaut und ist somit eng mit der Geburtsstunde der äthiopisch-orthodoxen Kirche verbunden. Traditionell wurden in dieser Kirche die äthiopischen Kaiser gekrönt, und die Legitimation der Regenten beruhte auf der Durchführung dieser wichtigen Zeremonie in Aksum oder zumindest auf einer Anerkennung ihres Herrschaftsanspruches im Rahmen einer heiligen Messe in diesem Gotteshaus.'}, {'query': 'Was war das Ziel des Ausrittes, den die Autoren am Morgen unternahmen, und wie war das Wetter während des Ausrittes?', 'answer': 'Das Ziel des Ausrittes war Pucará, die Ruine einer alten Inka-Festung auf einem Hügel. Während des Ausrittes zogen immer mehr Wolken auf, und der Cotopaxi verhüllte sich zusehends.'}, {'query': 'Welche zwei Hauptvarianten der Exit Tax wurden beim Grenzübertritt von Mexiko nach Belize beschrieben, und wie unterscheiden sie sich?', 'answer': 'Die zwei Hauptvarianten der Exit Tax beim Grenzübertritt von Mexiko nach Belize sind: Variante 1, bei der in Nachtbussen von jedem Passagier 500 Pesos eingesammelt werden, ohne Diskussion, bevor der Bus weiterfahren darf. Variante 2 betrifft die Zahlung der Touristenkarte, die erforderlich ist, wenn man länger im Land bleibt. Da die Touristenkarte oft im Preis von Flugtickets enthalten ist, aber kein (anerkanntes) Beleg vorliegt, wird bei der Ausreise erneut kassiert.'}]\n"
     ]
    }
   ],
   "source": [
    "new_examples = []\n",
    "\n",
    "# Loop over blogposts and apply the example_gen_chain one by one\n",
    "for blogpost in blogposts[:5]:\n",
    "    try:\n",
    "        # Apply the chain to each blogpost\n",
    "        example = example_gen_chain.apply_and_parse([{\"doc\": blogpost}])\n",
    "        new_examples.append(example[0][\"qa_pairs\"])\n",
    "    except Exception as e:\n",
    "        print(f\"Error processing blogpost: {e}\")\n",
    "\n",
    "# Print or display the generated examples\n",
    "print(new_examples)\n"
   ]
  },
  {
   "cell_type": "code",
   "execution_count": 19,
   "metadata": {},
   "outputs": [
    {
     "data": {
      "text/plain": [
       "[{'query': 'Welche Sehenswürdigkeit in Melbourne wird als ältester Bahnhof der Stadt beschrieben und was ist ein auffälliges Merkmal dieses Bahnhofs?',\n",
       "  'answer': 'Die Flinders Street Station wird als Melbournes ältester Bahnhof beschrieben. Ein auffälliges Merkmal sind die vielen Uhren über dem Eingang, die nicht die Zeit in verschiedenen Städten der Welt anzeigen, sondern den Zeitpunkt der Abfahrt der nächsten Züge.'},\n",
       " {'query': 'Welche Bedeutung hatte der Eukalyptusbaum für die Entwicklung von Addis Abeba, und welche Probleme brachte seine Einführung mit sich?',\n",
       "  'answer': 'Der Eukalyptusbaum wurde in Addis Abeba eingeführt und angepflanzt, um das Problem des Mangels an Feuerholz zu lösen, da dessen Transportwege weit waren. Obwohl der Eukalyptusbaum den Bedarf an Brennstoff deckte, verdrängte er einheimische Pflanzen durch sein schnelles Wachstum und seinen großen Wasserbedarf.'},\n",
       " {'query': 'Welche Rolle spielt die Kirche der Heiligen Maria von Zion in Aksum in der Geschichte der äthiopisch-orthodoxen Kirche und welche Bedeutung hat sie für die äthiopischen Kaiser?',\n",
       "  'answer': 'Die Kirche der Heiligen Maria von Zion wurde im 4. Jahrhundert nach Christus erbaut und ist somit eng mit der Geburtsstunde der äthiopisch-orthodoxen Kirche verbunden. Traditionell wurden in dieser Kirche die äthiopischen Kaiser gekrönt, und die Legitimation der Regenten beruhte auf der Durchführung dieser wichtigen Zeremonie in Aksum oder zumindest auf einer Anerkennung ihres Herrschaftsanspruches im Rahmen einer heiligen Messe in diesem Gotteshaus.'},\n",
       " {'query': 'Was war das Ziel des Ausrittes, den die Autoren am Morgen unternahmen, und wie war das Wetter während des Ausrittes?',\n",
       "  'answer': 'Das Ziel des Ausrittes war Pucará, die Ruine einer alten Inka-Festung auf einem Hügel. Während des Ausrittes zogen immer mehr Wolken auf, und der Cotopaxi verhüllte sich zusehends.'},\n",
       " {'query': 'Welche zwei Hauptvarianten der Exit Tax wurden beim Grenzübertritt von Mexiko nach Belize beschrieben, und wie unterscheiden sie sich?',\n",
       "  'answer': 'Die zwei Hauptvarianten der Exit Tax beim Grenzübertritt von Mexiko nach Belize sind: Variante 1, bei der in Nachtbussen von jedem Passagier 500 Pesos eingesammelt werden, ohne Diskussion, bevor der Bus weiterfahren darf. Variante 2 betrifft die Zahlung der Touristenkarte, die erforderlich ist, wenn man länger im Land bleibt. Da die Touristenkarte oft im Preis von Flugtickets enthalten ist, aber kein (anerkanntes) Beleg vorliegt, wird bei der Ausreise erneut kassiert.'}]"
      ]
     },
     "execution_count": 19,
     "metadata": {},
     "output_type": "execute_result"
    }
   ],
   "source": [
    "new_examples"
   ]
  },
  {
   "cell_type": "code",
   "execution_count": 20,
   "metadata": {},
   "outputs": [],
   "source": [
    "examples += new_examples"
   ]
  },
  {
   "cell_type": "code",
   "execution_count": 21,
   "metadata": {},
   "outputs": [
    {
     "data": {
      "text/markdown": [
       "Euer Guide im Masoala Regenwald hieß Armand."
      ],
      "text/plain": [
       "<IPython.core.display.Markdown object>"
      ]
     },
     "metadata": {},
     "output_type": "display_data"
    }
   ],
   "source": [
    "response = index.query(examples[0][\"query\"], llm=llm)\n",
    "display_response(response)"
   ]
  },
  {
   "cell_type": "markdown",
   "metadata": {},
   "source": [
    "## Manual Evaluation"
   ]
  },
  {
   "cell_type": "code",
   "execution_count": 22,
   "metadata": {},
   "outputs": [
    {
     "name": "stdout",
     "output_type": "stream",
     "text": [
      "\u001b[32;1m\u001b[1;3m[chain/start]\u001b[0m \u001b[1m[chain:RetrievalQA] Entering Chain run with input:\n",
      "\u001b[0m{\n",
      "  \"query\": \"Wie hieß unser Guide im Masoala Regenwald?\"\n",
      "}\n",
      "\u001b[32;1m\u001b[1;3m[chain/start]\u001b[0m \u001b[1m[chain:RetrievalQA > chain:StuffDocumentsChain] Entering Chain run with input:\n",
      "\u001b[0m[inputs]\n",
      "\u001b[32;1m\u001b[1;3m[chain/start]\u001b[0m \u001b[1m[chain:RetrievalQA > chain:StuffDocumentsChain > chain:LLMChain] Entering Chain run with input:\n",
      "\u001b[0m{\n",
      "  \"question\": \"Wie hieß unser Guide im Masoala Regenwald?\",\n",
      "  \"context\": \"title: 'Drei Tage im Masoala-Regenwald' description: \\\"\\\" published: 2019-07-14 redirect_from: - https://wittmann-tours.de/drei-tage-im-masoala-regenwald/ categories: \\\"Brookesia, Chamäleon, Lemur, Madagaskar, Madagaskar, Maki, Masoala, Regenwald, roter Vari, Taggecko, Umweltschutz, Vari, Wald, Wanderung\\\" hero: ./img/wp-content-uploads-2019-06-CW-20180820-105656-0464-1024x683.jpg\\n\\nDrei Tage im Masoala-Regenwald\\n\\nNach einer knapp 2-stündigen Bootsfahrt von Nosy Mangabe aus erreichten wir unser Ziel, die Masoala Forest Lodge. Wir landeten an einem Strand und gingen kaum 200 Meter landeinwärts, wo ein paar hübsche kleine Bungalows auf uns warteten. So viel Luxus hatten wir nach der vorherigen Campingnacht kaum erwartet. Um das gute Wetter - sprich kein Regen - auszunutzen, starteten wir umgehend auf die erste Wanderung durch den Urwald.\\n\\nAngekommen auf der Masoala-Halbinsel\\n\\nFür uns waren es drei wunderschöne, aber anstrengende Tage im Masoala-Nationalpark, in denen wir viel gewandert sind, auf abenteuerlichen Wegen, auf und ab über Stock und Stein und bei tagsüber stetig hoher Luftfeuchtigkeit. Im Schatten des Waldes wurde es zwar nicht übermäßig heiß, aber die Fortbewegung war trotzdem schweißtreibend. Es regnete jeden Tag mehrmals, wenn auch nicht dauerhaft. Armand hatte den Regenwald über viele Jahre erforscht und es bereitete ihm sichtlich Freude, uns die Tiere und Pflanzen näherzubringen. Seine Lieblinge waren die roten Varis.\\n\\nWenn Führer anfangen zu fotografieren, dann gibt es etwas Besonderes zu sehen. Auf der letzten Wanderung kamen wir einer Gruppe roter Varis dadurch sehr nahe, dass sie auf einem Baum saßen und wir oben an einer steilen Böschung standen. Wieder schlugen wir uns etwas querwaldein durch die Vegetation, damit keine Zweige im Weg wären. Dadurch befanden wir uns schließlich fast auf Augenhöhe mit den Lemuren.\\n\\nBevor wir endgültig die Hauptstraße verließen und ins Gebirge abbogen, kauften wir ein Lunchpaket für Maru, unsere beiden einheimischen Begleiter Tasama und Mazo und uns. Tasama fungierte als Führer und Mazo war für unseren Schutz zuständig. Er trug immer ein Gewehr bei sich. Bis zum Ende verstanden wir aber eigentlich nicht genau, wovor er uns beschützen sollte. Vermutlich war es eine lokale Arbeitsbeschaffungsmaßnahme. 45 Minuten später stellten wir unseren Wagen auf dem Parkplatz der Lodge ab und brachen zu einer ersten Wanderung auf. Etwas Eile war geboten, da die Wolken trotz des Sonnenscheins anfingen, sich aufzutürmen und zwischen den Gipfeln festzusetzen.\\n\\nDie wilden aber nahbaren Dschelada-Affen\\n\\nNachdem wir auf dem Rückweg den Park verlassen hatten, kam es, wie es kommen musste. Die beiden Co-Guides forderten Trinkgeld ein. Vielleicht funktioniert das bei anderen Wazungu, aber wir hatten nun mal einen Führer dabei und für ihn auch ein Trinkgeld eingeplant. Damit blieb uns leider nur übrig, den schwarzen Peter weiterzugeben und die Jungs an Jojo zu verweisen.\\n\\nTouristenfalle Arusha\"\n",
      "}\n",
      "\u001b[32;1m\u001b[1;3m[llm/start]\u001b[0m \u001b[1m[chain:RetrievalQA > chain:StuffDocumentsChain > chain:LLMChain > llm:ChatOpenAI] Entering LLM run with input:\n",
      "\u001b[0m{\n",
      "  \"prompts\": [\n",
      "    \"System: Use the following pieces of context to answer the user's question. \\nIf you don't know the answer, just say that you don't know, don't try to make up an answer.\\n----------------\\ntitle: 'Drei Tage im Masoala-Regenwald' description: \\\"\\\" published: 2019-07-14 redirect_from: - https://wittmann-tours.de/drei-tage-im-masoala-regenwald/ categories: \\\"Brookesia, Chamäleon, Lemur, Madagaskar, Madagaskar, Maki, Masoala, Regenwald, roter Vari, Taggecko, Umweltschutz, Vari, Wald, Wanderung\\\" hero: ./img/wp-content-uploads-2019-06-CW-20180820-105656-0464-1024x683.jpg\\n\\nDrei Tage im Masoala-Regenwald\\n\\nNach einer knapp 2-stündigen Bootsfahrt von Nosy Mangabe aus erreichten wir unser Ziel, die Masoala Forest Lodge. Wir landeten an einem Strand und gingen kaum 200 Meter landeinwärts, wo ein paar hübsche kleine Bungalows auf uns warteten. So viel Luxus hatten wir nach der vorherigen Campingnacht kaum erwartet. Um das gute Wetter - sprich kein Regen - auszunutzen, starteten wir umgehend auf die erste Wanderung durch den Urwald.\\n\\nAngekommen auf der Masoala-Halbinsel\\n\\nFür uns waren es drei wunderschöne, aber anstrengende Tage im Masoala-Nationalpark, in denen wir viel gewandert sind, auf abenteuerlichen Wegen, auf und ab über Stock und Stein und bei tagsüber stetig hoher Luftfeuchtigkeit. Im Schatten des Waldes wurde es zwar nicht übermäßig heiß, aber die Fortbewegung war trotzdem schweißtreibend. Es regnete jeden Tag mehrmals, wenn auch nicht dauerhaft. Armand hatte den Regenwald über viele Jahre erforscht und es bereitete ihm sichtlich Freude, uns die Tiere und Pflanzen näherzubringen. Seine Lieblinge waren die roten Varis.\\n\\nWenn Führer anfangen zu fotografieren, dann gibt es etwas Besonderes zu sehen. Auf der letzten Wanderung kamen wir einer Gruppe roter Varis dadurch sehr nahe, dass sie auf einem Baum saßen und wir oben an einer steilen Böschung standen. Wieder schlugen wir uns etwas querwaldein durch die Vegetation, damit keine Zweige im Weg wären. Dadurch befanden wir uns schließlich fast auf Augenhöhe mit den Lemuren.\\n\\nBevor wir endgültig die Hauptstraße verließen und ins Gebirge abbogen, kauften wir ein Lunchpaket für Maru, unsere beiden einheimischen Begleiter Tasama und Mazo und uns. Tasama fungierte als Führer und Mazo war für unseren Schutz zuständig. Er trug immer ein Gewehr bei sich. Bis zum Ende verstanden wir aber eigentlich nicht genau, wovor er uns beschützen sollte. Vermutlich war es eine lokale Arbeitsbeschaffungsmaßnahme. 45 Minuten später stellten wir unseren Wagen auf dem Parkplatz der Lodge ab und brachen zu einer ersten Wanderung auf. Etwas Eile war geboten, da die Wolken trotz des Sonnenscheins anfingen, sich aufzutürmen und zwischen den Gipfeln festzusetzen.\\n\\nDie wilden aber nahbaren Dschelada-Affen\\n\\nNachdem wir auf dem Rückweg den Park verlassen hatten, kam es, wie es kommen musste. Die beiden Co-Guides forderten Trinkgeld ein. Vielleicht funktioniert das bei anderen Wazungu, aber wir hatten nun mal einen Führer dabei und für ihn auch ein Trinkgeld eingeplant. Damit blieb uns leider nur übrig, den schwarzen Peter weiterzugeben und die Jungs an Jojo zu verweisen.\\n\\nTouristenfalle Arusha\\nHuman: Wie hieß unser Guide im Masoala Regenwald?\"\n",
      "  ]\n",
      "}\n",
      "\u001b[36;1m\u001b[1;3m[llm/end]\u001b[0m \u001b[1m[chain:RetrievalQA > chain:StuffDocumentsChain > chain:LLMChain > llm:ChatOpenAI] [520ms] Exiting LLM run with output:\n",
      "\u001b[0m{\n",
      "  \"generations\": [\n",
      "    [\n",
      "      {\n",
      "        \"text\": \"Euer Guide im Masoala Regenwald hieß Armand.\",\n",
      "        \"generation_info\": {\n",
      "          \"finish_reason\": \"stop\",\n",
      "          \"logprobs\": null\n",
      "        },\n",
      "        \"type\": \"ChatGeneration\",\n",
      "        \"message\": {\n",
      "          \"lc\": 1,\n",
      "          \"type\": \"constructor\",\n",
      "          \"id\": [\n",
      "            \"langchain\",\n",
      "            \"schema\",\n",
      "            \"messages\",\n",
      "            \"AIMessage\"\n",
      "          ],\n",
      "          \"kwargs\": {\n",
      "            \"content\": \"Euer Guide im Masoala Regenwald hieß Armand.\",\n",
      "            \"additional_kwargs\": {\n",
      "              \"refusal\": null\n",
      "            },\n",
      "            \"response_metadata\": {\n",
      "              \"token_usage\": {\n",
      "                \"completion_tokens\": 14,\n",
      "                \"prompt_tokens\": 806,\n",
      "                \"total_tokens\": 820,\n",
      "                \"completion_tokens_details\": {\n",
      "                  \"reasoning_tokens\": 0\n",
      "                }\n",
      "              },\n",
      "              \"model_name\": \"gpt-4o-mini-2024-07-18\",\n",
      "              \"system_fingerprint\": \"fp_f85bea6784\",\n",
      "              \"finish_reason\": \"stop\",\n",
      "              \"logprobs\": null\n",
      "            },\n",
      "            \"type\": \"ai\",\n",
      "            \"id\": \"run-2c219720-711c-4986-b40d-b140997d7c0b-0\",\n",
      "            \"usage_metadata\": {\n",
      "              \"input_tokens\": 806,\n",
      "              \"output_tokens\": 14,\n",
      "              \"total_tokens\": 820\n",
      "            },\n",
      "            \"tool_calls\": [],\n",
      "            \"invalid_tool_calls\": []\n",
      "          }\n",
      "        }\n",
      "      }\n",
      "    ]\n",
      "  ],\n",
      "  \"llm_output\": {\n",
      "    \"token_usage\": {\n",
      "      \"completion_tokens\": 14,\n",
      "      \"prompt_tokens\": 806,\n",
      "      \"total_tokens\": 820,\n",
      "      \"completion_tokens_details\": {\n",
      "        \"reasoning_tokens\": 0\n",
      "      }\n",
      "    },\n",
      "    \"model_name\": \"gpt-4o-mini-2024-07-18\",\n",
      "    \"system_fingerprint\": \"fp_f85bea6784\"\n",
      "  },\n",
      "  \"run\": null,\n",
      "  \"type\": \"LLMResult\"\n",
      "}\n",
      "\u001b[36;1m\u001b[1;3m[chain/end]\u001b[0m \u001b[1m[chain:RetrievalQA > chain:StuffDocumentsChain > chain:LLMChain] [521ms] Exiting Chain run with output:\n",
      "\u001b[0m{\n",
      "  \"text\": \"Euer Guide im Masoala Regenwald hieß Armand.\"\n",
      "}\n",
      "\u001b[36;1m\u001b[1;3m[chain/end]\u001b[0m \u001b[1m[chain:RetrievalQA > chain:StuffDocumentsChain] [522ms] Exiting Chain run with output:\n",
      "\u001b[0m{\n",
      "  \"output_text\": \"Euer Guide im Masoala Regenwald hieß Armand.\"\n",
      "}\n",
      "\u001b[36;1m\u001b[1;3m[chain/end]\u001b[0m \u001b[1m[chain:RetrievalQA] [766ms] Exiting Chain run with output:\n",
      "\u001b[0m{\n",
      "  \"result\": \"Euer Guide im Masoala Regenwald hieß Armand.\"\n",
      "}\n"
     ]
    }
   ],
   "source": [
    "import langchain\n",
    "langchain.debug = True\n",
    "\n",
    "response = index.query(examples[0][\"query\"], llm=llm)"
   ]
  },
  {
   "cell_type": "markdown",
   "metadata": {},
   "source": [
    "## LLM assisted evaluation"
   ]
  },
  {
   "cell_type": "code",
   "execution_count": 23,
   "metadata": {},
   "outputs": [],
   "source": [
    "langchain.debug = False\n",
    "\n",
    "model_predictions = [ index.query(example[\"query\"], llm=llm) for example in examples ]"
   ]
  },
  {
   "cell_type": "code",
   "execution_count": 24,
   "metadata": {},
   "outputs": [
    {
     "name": "stdout",
     "output_type": "stream",
     "text": [
      "{'query': 'Wie hieß unser Guide im Masoala Regenwald?', 'answer': 'Armand', 'result': 'Euer Guide im Masoala Regenwald hieß Armand.'}\n"
     ]
    }
   ],
   "source": [
    "# Create a list to hold the merged dictionaries\n",
    "predictions = []\n",
    "\n",
    "# Loop over both examples and predictions simultaneously\n",
    "for example, model_prediction in zip(examples, model_predictions):\n",
    "    # Create a new dictionary with query, answer, and result keys\n",
    "    merged_dict = {\n",
    "        \"query\": example['query'],\n",
    "        \"answer\": example['answer'],\n",
    "        \"result\": model_prediction\n",
    "    }\n",
    "    # Append the merged dictionary to the merged_list\n",
    "    predictions.append(merged_dict)\n",
    "\n",
    "# Print or return the merged list\n",
    "print(predictions[0])\n"
   ]
  },
  {
   "cell_type": "code",
   "execution_count": 25,
   "metadata": {},
   "outputs": [
    {
     "data": {
      "text/plain": [
       "{'query': 'Wie hieß unser Guide im Masoala Regenwald?', 'answer': 'Armand'}"
      ]
     },
     "execution_count": 25,
     "metadata": {},
     "output_type": "execute_result"
    }
   ],
   "source": [
    "examples[0]"
   ]
  },
  {
   "cell_type": "code",
   "execution_count": 26,
   "metadata": {},
   "outputs": [],
   "source": [
    "from langchain.evaluation.qa import QAEvalChain\n",
    "eval_chain = QAEvalChain.from_llm(llm)\n",
    "\n",
    "graded_outputs = eval_chain.evaluate(examples, predictions)"
   ]
  },
  {
   "cell_type": "code",
   "execution_count": 27,
   "metadata": {},
   "outputs": [
    {
     "data": {
      "text/plain": [
       "[{'results': 'CORRECT'},\n",
       " {'results': 'CORRECT'},\n",
       " {'results': 'GRADE: CORRECT'},\n",
       " {'results': 'GRADE: CORRECT'},\n",
       " {'results': 'GRADE: CORRECT'},\n",
       " {'results': 'GRADE: INCORRECT'},\n",
       " {'results': 'GRADE: CORRECT'}]"
      ]
     },
     "execution_count": 27,
     "metadata": {},
     "output_type": "execute_result"
    }
   ],
   "source": [
    "graded_outputs"
   ]
  },
  {
   "cell_type": "code",
   "execution_count": 28,
   "metadata": {},
   "outputs": [
    {
     "name": "stdout",
     "output_type": "stream",
     "text": [
      "Example 0:\n",
      "Question: Wie hieß unser Guide im Masoala Regenwald?\n",
      "Real Answer: Armand\n",
      "Predicted Answer: Euer Guide im Masoala Regenwald hieß Armand.\n",
      "Predicted Grade: CORRECT\n",
      "\n",
      "Example 1:\n",
      "Question: Wie hieß der Camping Platz unter den Koalas?\n",
      "Real Answer: Bimbi Park\n",
      "Predicted Answer: Der Campingplatz hieß Bimbi Park.\n",
      "Predicted Grade: CORRECT\n",
      "\n",
      "Example 2:\n",
      "Question: Welche Sehenswürdigkeit in Melbourne wird als ältester Bahnhof der Stadt beschrieben und was ist ein auffälliges Merkmal dieses Bahnhofs?\n",
      "Real Answer: Die Flinders Street Station wird als Melbournes ältester Bahnhof beschrieben. Ein auffälliges Merkmal sind die vielen Uhren über dem Eingang, die nicht die Zeit in verschiedenen Städten der Welt anzeigen, sondern den Zeitpunkt der Abfahrt der nächsten Züge.\n",
      "Predicted Answer: Die Flinders Street Station wird als der älteste Bahnhof in Melbourne beschrieben. Ein auffälliges Merkmal dieses Bahnhofs sind die vielen Uhren, die sich direkt über dem Eingang befinden und den Zeitpunkt der Abfahrt der nächsten Züge anzeigen.\n",
      "Predicted Grade: GRADE: CORRECT\n",
      "\n",
      "Example 3:\n",
      "Question: Welche Bedeutung hatte der Eukalyptusbaum für die Entwicklung von Addis Abeba, und welche Probleme brachte seine Einführung mit sich?\n",
      "Real Answer: Der Eukalyptusbaum wurde in Addis Abeba eingeführt und angepflanzt, um das Problem des Mangels an Feuerholz zu lösen, da dessen Transportwege weit waren. Obwohl der Eukalyptusbaum den Bedarf an Brennstoff deckte, verdrängte er einheimische Pflanzen durch sein schnelles Wachstum und seinen großen Wasserbedarf.\n",
      "Predicted Answer: Der Eukalyptusbaum hatte eine bedeutende Rolle für die Entwicklung von Addis Abeba, da er als wichtige Brennstoffquelle diente. Nach der Gründung der Stadt durch Kaiser Menelik II. gab es einen Mangel an Feuerholz, was ein Problem für die Bevölkerung darstellte. Die Einführung und Anpflanzung des Eukalyptusbaums half, dieses Problem zu lösen und trug somit zur \"Blüte\" der Stadt bei.\n",
      "\n",
      "Allerdings brachte die Einführung des Eukalyptusbaums auch Probleme mit sich. Sein schnelles Wachstum und der große Wasserbedarf führten dazu, dass er einheimische Pflanzen verdrängte. Dies hatte negative Auswirkungen auf die lokale Flora und möglicherweise auch auf das Ökosystem der Region. Trotz dieser Probleme schätzen die Einheimischen den Eukalyptusbaum weiterhin als wichtige Quelle für Brennstoff.\n",
      "Predicted Grade: GRADE: CORRECT\n",
      "\n",
      "Example 4:\n",
      "Question: Welche Rolle spielt die Kirche der Heiligen Maria von Zion in Aksum in der Geschichte der äthiopisch-orthodoxen Kirche und welche Bedeutung hat sie für die äthiopischen Kaiser?\n",
      "Real Answer: Die Kirche der Heiligen Maria von Zion wurde im 4. Jahrhundert nach Christus erbaut und ist somit eng mit der Geburtsstunde der äthiopisch-orthodoxen Kirche verbunden. Traditionell wurden in dieser Kirche die äthiopischen Kaiser gekrönt, und die Legitimation der Regenten beruhte auf der Durchführung dieser wichtigen Zeremonie in Aksum oder zumindest auf einer Anerkennung ihres Herrschaftsanspruches im Rahmen einer heiligen Messe in diesem Gotteshaus.\n",
      "Predicted Answer: Die Kirche der Heiligen Maria von Zion spielt eine zentrale Rolle in der Geschichte der äthiopisch-orthodoxen Kirche, da sie an der Stelle errichtet wurde, wo das erste Gotteshaus dieses Namens im 4. Jahrhundert nach Christus gebaut wurde. Ihre Wurzeln reichen bis zur Geburtsstunde der äthiopisch-orthodoxen Kirche zurück, und sie ist eng mit der Konversion von König Ezana, dem ersten aksumitischen Herrscher zum Christentum, verbunden.\n",
      "\n",
      "Für die äthiopischen Kaiser hatte die Kirche ebenfalls eine große Bedeutung, da dort traditionell die Kaiser gekrönt wurden. Die Legitimation der Regenten beruhte auf der Durchführung dieser wichtigen Zeremonie in Aksum oder zumindest auf der Anerkennung ihres Herrschaftsanspruchs im Rahmen einer heiligen Messe in dieser Kirche. Somit war die Kirche nicht nur ein religiöses Zentrum, sondern auch ein Ort von politischer Bedeutung für die Herrscher Äthiopiens.\n",
      "Predicted Grade: GRADE: CORRECT\n",
      "\n",
      "Example 5:\n",
      "Question: Was war das Ziel des Ausrittes, den die Autoren am Morgen unternahmen, und wie war das Wetter während des Ausrittes?\n",
      "Real Answer: Das Ziel des Ausrittes war Pucará, die Ruine einer alten Inka-Festung auf einem Hügel. Während des Ausrittes zogen immer mehr Wolken auf, und der Cotopaxi verhüllte sich zusehends.\n",
      "Predicted Answer: Das Ziel des Ausrittes am Morgen war eine Ausfahrt im motorisierten Beiboot durch das Labyrinth der Inselwelt des Parque Nacional de Anavilhanas. Das Wetter während des Ausrittes war vollkommen windstill, und die Wasseroberfläche wirkte wie ein riesiger Spiegel, der die Bäume und den Himmel perfekt reflektierte.\n",
      "Predicted Grade: GRADE: INCORRECT\n",
      "\n",
      "Example 6:\n",
      "Question: Welche zwei Hauptvarianten der Exit Tax wurden beim Grenzübertritt von Mexiko nach Belize beschrieben, und wie unterscheiden sie sich?\n",
      "Real Answer: Die zwei Hauptvarianten der Exit Tax beim Grenzübertritt von Mexiko nach Belize sind: Variante 1, bei der in Nachtbussen von jedem Passagier 500 Pesos eingesammelt werden, ohne Diskussion, bevor der Bus weiterfahren darf. Variante 2 betrifft die Zahlung der Touristenkarte, die erforderlich ist, wenn man länger im Land bleibt. Da die Touristenkarte oft im Preis von Flugtickets enthalten ist, aber kein (anerkanntes) Beleg vorliegt, wird bei der Ausreise erneut kassiert.\n",
      "Predicted Answer: Die zwei Hauptvarianten der Exit Tax beim Grenzübertritt von Mexiko nach Belize sind:\n",
      "\n",
      "1. **Variante 1**: In Nachtbussen werden einfach von jedem Passagier 500 Pesos eingesammelt, ohne Diskussion. Erst nachdem die Gebühr bezahlt wurde, darf der Bus weiterfahren.\n",
      "\n",
      "2. **Variante 2**: Hierbei muss man seine Touristenkarte bezahlen, wenn man länger im Land war. Da die Touristenkarte in vielen Flugtickets im Preis enthalten ist, man aber dafür keinen (anerkannten) Beleg hat, wird bei der Ausreise noch einmal kassiert.\n",
      "\n",
      "Der Hauptunterschied zwischen den beiden Varianten liegt darin, dass die erste Variante eine direkte Gebühr für die Ausreise darstellt, während die zweite Variante sich auf die Bezahlung der Touristenkarte bezieht, die möglicherweise bereits im Ticketpreis enthalten war.\n",
      "Predicted Grade: GRADE: CORRECT\n",
      "\n"
     ]
    }
   ],
   "source": [
    "for i, eg in enumerate(examples):\n",
    "    print(f\"Example {i}:\")\n",
    "    print(\"Question: \" + predictions[i]['query'])\n",
    "    print(\"Real Answer: \" + predictions[i]['answer'])\n",
    "    print(\"Predicted Answer: \" + predictions[i]['result'])\n",
    "    print(\"Predicted Grade: \" + graded_outputs[i]['results'])\n",
    "    print()"
   ]
  },
  {
   "cell_type": "markdown",
   "metadata": {},
   "source": [
    "## LangSmith\n",
    "\n",
    "LangChain Plus (as it was still called in the course) has become LangSmith.\n",
    "\n",
    "Signing up at https://www.langchain.com/ -> Login via: https://smith.langchain.com/\n",
    "\n",
    "Generated API-Key, added it to my .env file\n",
    "\n",
    "Here is a [Getting started Guide](https://docs.smith.langchain.com/). Since this deviates from the current course, I save it for later to return to this topic.\n",
    "\n",
    "\n",
    "\n"
   ]
  },
  {
   "cell_type": "markdown",
   "metadata": {},
   "source": [
    "## Wrapping up\n",
    "\n",
    "This chapter was interesting, because I did not touch the subject before, but it resulted in more code than I had anticipated, especially because langchain is evolving quickly, and I ran into errors because of outdated packages.\n",
    "\n",
    "Going beyond just small PoCs, get the impression that evaluation, tracing and debugging might be something where Langchain can shine."
   ]
  }
 ],
 "metadata": {
  "kernelspec": {
   "display_name": "base",
   "language": "python",
   "name": "python3"
  },
  "language_info": {
   "codemirror_mode": {
    "name": "ipython",
    "version": 3
   },
   "file_extension": ".py",
   "mimetype": "text/x-python",
   "name": "python",
   "nbconvert_exporter": "python",
   "pygments_lexer": "ipython3",
   "version": "3.10.12"
  }
 },
 "nbformat": 4,
 "nbformat_minor": 2
}
