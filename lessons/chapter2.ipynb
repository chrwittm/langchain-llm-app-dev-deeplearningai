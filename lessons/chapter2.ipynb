{
 "cells": [
  {
   "cell_type": "markdown",
   "metadata": {},
   "source": [
    "# Langchain Course Charpter 2\n",
    "\n",
    "[Lesson 2](https://learn.deeplearning.ai/courses/langchain/lesson/2/models%2C-prompts-and-parsers) of the Deep Learning AI course on Langchain teaches how to use prompt templates to feed variables into prompts and how to extract content from the model response in a structured way using an output parser. The example used in this lesson is a translation and summarization of customer reviews.\n",
    "\n",
    "To rework this lesson, I am going to implement my own little example which builds on the Wittmann-Tours dataset to translate and summarize blog posts, additionally extracting the country of the activities described in the blog post and the publication date.\n"
   ]
  },
  {
   "cell_type": "markdown",
   "metadata": {},
   "source": [
    "## Setup of Wittmann-Tours dataset"
   ]
  },
  {
   "cell_type": "markdown",
   "metadata": {},
   "source": [
    "The [Wittmann-Tours.de](https://wittmann-tours.de) blog is available for download as a dataset in [the Wittmann-Tours repo](https://github.com/chrwittm/wittmann-tours).\n",
    "\n",
    "To download the dataset, we can use the `wget` command to download the `blogposts-md.zip` file, afterwards, simply `unzip` the file."
   ]
  },
  {
   "cell_type": "code",
   "execution_count": 1,
   "metadata": {},
   "outputs": [],
   "source": [
    "#!wget -P ./wt-blogposts https://github.com/chrwittm/wittmann-tours/raw/main/zip/blogposts-md.zip\n",
    "#!unzip -o ./wt-blogposts/blogposts-md.zip -d ./../wt-blogposts/"
   ]
  },
  {
   "cell_type": "markdown",
   "metadata": {
    "vscode": {
     "languageId": "plaintext"
    }
   },
   "source": [
    "As a result we have all the blog posts in a folder called `wt-blogposts`. For each blog post there is a directory with the name of the blog post and a file `index.md` containing the blog post. For example:   \n",
    "\n",
    "```bash\n",
    "wt-blogposts\n",
    "├── 3-tage-in-melbourne\n",
    "│   └── index.md\n",
    "```"
   ]
  },
  {
   "cell_type": "markdown",
   "metadata": {},
   "source": [
    "Here are 2 helper functions to get the blog post files and the read a blog post. The functions are borrowed / enhanced version from my blog post on [Remembering the Wittmann Tours World Trip with RAG](https://chrwittm.github.io/posts/2024-03-22-rag1-remembering-world-trip/)."
   ]
  },
  {
   "cell_type": "code",
   "execution_count": 2,
   "metadata": {},
   "outputs": [],
   "source": [
    "import os\n",
    "import glob\n",
    "\n",
    "def get_blog_post_files(path_to_blog):\n",
    "\n",
    "    pattern = os.path.join(path_to_blog, \"**/*.md\")\n",
    "    return sorted(glob.glob(pattern, recursive=True))\n",
    "\n",
    "def get_blogpost(path_to_blogpost):\n",
    "    with open(path_to_blogpost, 'r') as file:\n",
    "        content = file.read()\n",
    "\n",
    "    return content"
   ]
  },
  {
   "cell_type": "markdown",
   "metadata": {},
   "source": [
    "Here are the first 5 blog post files:"
   ]
  },
  {
   "cell_type": "code",
   "execution_count": 3,
   "metadata": {},
   "outputs": [
    {
     "data": {
      "text/plain": [
       "['./../wt-blogposts/3-tage-in-melbourne/index.md',\n",
       " './../wt-blogposts/addis-abeba-die-hauptstadt-athiopiens/index.md',\n",
       " './../wt-blogposts/aksum-aufbewahrungsort-der-bundeslade/index.md',\n",
       " './../wt-blogposts/am-fusse-des-cotopaxi/index.md',\n",
       " './../wt-blogposts/an-der-grenze-von-mexiko-nach-belize/index.md']"
      ]
     },
     "execution_count": 3,
     "metadata": {},
     "output_type": "execute_result"
    }
   ],
   "source": [
    "blogpost_files = get_blog_post_files(\"./../wt-blogposts\")\n",
    "blogpost_files[0:5]\n"
   ]
  },
  {
   "cell_type": "markdown",
   "metadata": {},
   "source": [
    "Let's read the first blog post and print the heading and the first sentence (omitting the header information):"
   ]
  },
  {
   "cell_type": "code",
   "execution_count": 4,
   "metadata": {},
   "outputs": [
    {
     "name": "stdout",
     "output_type": "stream",
     "text": [
      "The blogpost has 7666 characters. \n",
      "\n",
      "Heading and first sentence: \n",
      "\n",
      "# 3 Tage in Melbourne\n",
      "\n",
      "Auch wenn Canberra die offizielle Hauptstadt Australiens ist, so liefern sich Melbourne und Sydney als die beiden größten Städte des Kontinents ein Wettrennen um die Wahrnehmung als geistige Kapitale des Landes. Nach relativ viel Naturprogramm besuchten wir Melbourne, „[the world's most liveable city](https://www.smh.com.au/business/the-economy/melbourne-named-worlds-most-liveable-city-by-the-economist-for-seventh-year-20170816-gxx1kg.html)“, zu der sie der Economist wiederholt gekürt hat. \n"
     ]
    }
   ],
   "source": [
    "path_to_blogpost = \"./../wt-blogposts/3-tage-in-melbourne/index.md\"\n",
    "blogpost = get_blogpost(path_to_blogpost)\n",
    "\n",
    "print(f\"The blogpost has {len(blogpost)} characters. \\n\")\n",
    "print(f\"Heading and first sentence: \\n\\n{blogpost[317:835]}\")"
   ]
  },
  {
   "cell_type": "markdown",
   "metadata": {},
   "source": [
    "## Installing Langchain\n",
    "\n",
    "Since this is the first time I use Langchain, it needs to be installed:"
   ]
  },
  {
   "cell_type": "code",
   "execution_count": 5,
   "metadata": {},
   "outputs": [],
   "source": [
    "#!pip install langchain openai"
   ]
  },
  {
   "cell_type": "markdown",
   "metadata": {},
   "source": [
    "## Initializing the LLM\n",
    "\n",
    "Unlike in the lesson, we will use OpenAI's `gpt-4o-mini` model. By now, [OpenAI recommends](https://openai.com/index/gpt-4o-mini-advancing-cost-efficient-intelligence/) to use `gpt-4o-mini` for new applications because it is significantly smarter, cheaper, and just as fast as GPT-3.5 Turbo.\n",
    "\n",
    "Here is my usual quick example to check if the LLM-connection works, prompting it to list all the planets in the solar system."
   ]
  },
  {
   "cell_type": "code",
   "execution_count": 6,
   "metadata": {},
   "outputs": [
    {
     "name": "stdout",
     "output_type": "stream",
     "text": [
      "The planets in the solar system, in order from the Sun, are:\n",
      "\n",
      "1. Mercury\n",
      "2. Venus\n",
      "3. Earth\n",
      "4. Mars\n",
      "5. Jupiter\n",
      "6. Saturn\n",
      "7. Uranus\n",
      "8. Neptune\n",
      "\n",
      "Additionally, there are dwarf planets, such as Pluto, Eris, Haumea, and Makemake, but they are not classified as the main planets of the solar system.\n"
     ]
    }
   ],
   "source": [
    "import os\n",
    "from dotenv import load_dotenv\n",
    "from langchain_openai import ChatOpenAI\n",
    "\n",
    "load_dotenv() #contains the OPENAI_API_KEY\n",
    "\n",
    "# Initialize the LLM\n",
    "llm = ChatOpenAI(model=\"gpt-4o-mini\", temperature=0)\n",
    "\n",
    "# Prompt model\n",
    "prompt = \"List all the planets in the solar system.\"\n",
    "response = llm.invoke(prompt)\n",
    "print(response.content)"
   ]
  },
  {
   "cell_type": "markdown",
   "metadata": {},
   "source": [
    "## Three Approaches to Prompt Construction: From Basic Python to Langchain Templates\n",
    "\n",
    "Let's switch to the Wittmann-Tours blog posts.\n",
    "In this section, we will see three approaches to prompt construction:\n",
    "\n",
    "1. F-string\n",
    "2. Langchain Prompt Template\n",
    "3. Langchain Chat Prompt Template\n",
    "\n"
   ]
  },
  {
   "cell_type": "markdown",
   "metadata": {},
   "source": [
    "### Translating and summarizing a blog post with F-string\n",
    "\n",
    "This is the most basic approach to prompt construction. We define placeholders for the variables we want to include in the prompt and insert the actual values into the prompt."
   ]
  },
  {
   "cell_type": "code",
   "execution_count": 7,
   "metadata": {},
   "outputs": [
    {
     "name": "stdout",
     "output_type": "stream",
     "text": [
      "\n",
      "You are a helpful assistant that translates and summarizes blog posts.\n",
      "\n",
      "Translate the following blog post delimited by triple backticks into English.\n",
      "\n",
      "Then summarize the translated blog post into 100 words.\n",
      "\n",
      "Respond only with the summary in English.\n",
      "\n",
      "Blog post:\n",
      "```---\n",
      "title: '3 Tage in Melbourne'\n",
      "description: \"\"\n",
      "published: 2018-04-13\n",
      "redirect_from: \n",
      "            - https://wittmann-tours.de/3-tage-in-melbourne/\n",
      "categories: \"Aardman, Australien, Australien, Claymation, Melbourne, Ned Kelly, Stadt\"\n",
      "hero: ./img/wp-content-uploads-2018-04-CW-20180124-095738-4825-1-1024x683.jpg\n",
      "---\n",
      "# 3 Tage in Melbourne\n",
      "\n",
      "Auch wenn Canberra die offizielle Hauptstadt Australiens ist, so liefern sich Melbourne und Sydney als die beiden größten Städte des Kontinents ein Wettrennen um die Wahrnehmung als geistige Kapitale des Landes. Nach relativ viel Naturprogramm besuchten wir Melbourne, „[the world's most liveable city](https://www.smh.com.au/business/the-economy/melbourne-named-worlds-most-liveable-city-by-the-economist-for-seventh-year-20170816-gxx1kg.html)“, zu der sie der Economist wiederholt gekürt hat.\n"
     ]
    }
   ],
   "source": [
    "summary_language = \"English\"\n",
    "summary_words = 100\n",
    "\n",
    "prompt = f\"\"\"\n",
    "You are a helpful assistant that translates and summarizes blog posts.\n",
    "\n",
    "Translate the following blog post delimited by triple backticks into {summary_language}.\n",
    "\n",
    "Then summarize the translated blog post into {summary_words} words.\n",
    "\n",
    "Respond only with the summary in {summary_language}.\n",
    "\n",
    "Blog post:\n",
    "```{blogpost}```\n",
    "\"\"\"\n",
    "\n",
    "print(prompt[:1100])"
   ]
  },
  {
   "cell_type": "markdown",
   "metadata": {},
   "source": [
    "Using the `invoke` method, we can now send the prompt to the LLM and print the response."
   ]
  },
  {
   "cell_type": "code",
   "execution_count": 8,
   "metadata": {},
   "outputs": [
    {
     "name": "stdout",
     "output_type": "stream",
     "text": [
      "The blog post describes a three-day visit to Melbourne, Australia, highlighting its status as a vibrant cultural hub despite being overshadowed by Sydney. The author appreciates Melbourne's colonial architecture, particularly the Flinders Street Station, and its charming arcades filled with unique shops. The visit coincided with the Australian Open, creating a lively atmosphere throughout the city. The post also explores Melbourne's street art scene, the ACMI film museum showcasing Aardman animations, and the legend of Ned Kelly at the Victoria State Library. Overall, the author enjoyed their time in Melbourne, noting its rich offerings and friendly locals.\n"
     ]
    }
   ],
   "source": [
    "response = llm.invoke(prompt)\n",
    "print(response.content)"
   ]
  },
  {
   "cell_type": "markdown",
   "metadata": {},
   "source": [
    "### Translating and summarizing a blog post with prompt template\n",
    "\n",
    "Instead of using an `f-string` for the prompt, we can use a prompt template. While the result may seem the same at first, a prompt template offers greater flexibility when scaling up a project. The key advantages of using prompt templates are:\n",
    "\n",
    "- **Reusability and Modularity**: With the `f-string` approach, variables are directly linked to the runtime code. In contrast, prompt templates allow variables to be inserted dynamically, making them reusable across different parts of the application or runtime environments.\n",
    "  \n",
    "- **Separation of Logic and Content**: In the current example notebook, prompts are embedded directly within the code. However, in larger projects, prompts are often stored separately from the logic, such as in a configuration file or a database. This clear separation between logic and content simplifies the management of both, making the code more maintainable and scalable.\n",
    "\n",
    "- **Error Handling and Validation**: Prompt templates provide better error handling by ensuring that all required variables are supplied before formatting the template. This helps catch potential issues earlier and makes the code more robust.\n",
    "\n",
    "When defining the prompt template, notice that the text is the same as above, but it is not written as f-string. Instead, it is a \"regular\" string. The variables are still included in curly braces. To fill in the variables, we use the `format` method."
   ]
  },
  {
   "cell_type": "code",
   "execution_count": 9,
   "metadata": {},
   "outputs": [
    {
     "name": "stdout",
     "output_type": "stream",
     "text": [
      "\n",
      "You are a helpful assistant that translates and summarizes blog posts.\n",
      "\n",
      "Translate the following blog post delimited by triple backticks into English.\n",
      "\n",
      "Then summarize the translated blog post into 100 words.\n",
      "\n",
      "Respond only with the summary in English.\n",
      "\n",
      "Blog post:\n",
      "```---\n",
      "title: '3 Tage in Melbourne'\n",
      "description: \"\"\n",
      "published: 2018-04-13\n",
      "redirect_from: \n",
      "            - https://wittmann-tours.de/3-tage-in-melbourne/\n",
      "categories: \"Aardman, Australien, Australien, Claymation, Melbourne, Ned Kelly, Stadt\"\n",
      "hero: ./img/wp-content-uploads-2018-04-CW-20180124-095738-4825-1-1024x683.jpg\n",
      "---\n",
      "# 3 Tage in Melbourne\n",
      "\n",
      "Auch wenn Canberra die offizielle Hauptstadt Australiens ist, so liefern sich Melbourne und Sydney als die beiden größten Städte des Kontinents ein Wettrennen um die Wahrnehmung als geistige Kapitale des Landes. Nach relativ viel Naturprogramm besuchten wir Melbourne, „[the world's most liveable city](https://www.smh.com.au/business/the-economy/melbourne-named-worlds-most-liveable-city-by-the-economist-for-seventh-year-20170816-gxx1kg.html)“, zu der sie der Economist wiederholt gekürt hat.\n"
     ]
    }
   ],
   "source": [
    "from langchain_core.prompts import PromptTemplate\n",
    "\n",
    "template_prompt = \"\"\"\n",
    "You are a helpful assistant that translates and summarizes blog posts.\n",
    "\n",
    "Translate the following blog post delimited by triple backticks into {summary_language}.\n",
    "\n",
    "Then summarize the translated blog post into {summary_words} words.\n",
    "\n",
    "Respond only with the summary in {summary_language}.\n",
    "\n",
    "Blog post:\n",
    "```{blogpost}```\n",
    "\"\"\"\n",
    "\n",
    "prompt_template = PromptTemplate.from_template(template_prompt)\n",
    "\n",
    "formatted_prompt = prompt_template.format(blogpost=blogpost, summary_language=summary_language, summary_words=summary_words)\n",
    "\n",
    "print(formatted_prompt[:1100])"
   ]
  },
  {
   "cell_type": "markdown",
   "metadata": {},
   "source": [
    "We can now use the formatted prompt to translate and summarize the blog post."
   ]
  },
  {
   "cell_type": "code",
   "execution_count": 10,
   "metadata": {},
   "outputs": [
    {
     "name": "stdout",
     "output_type": "stream",
     "text": [
      "The blog post describes a three-day visit to Melbourne, Australia, highlighting its status as a vibrant cultural hub despite being overshadowed by Sydney. The author appreciates Melbourne's colonial architecture, particularly the Flinders Street Station, and its charming arcades filled with unique shops. The visit coincided with the Australian Open, creating a lively atmosphere throughout the city. The post also emphasizes Melbourne's street art scene, notable museums like the ACMI, and the legend of Ned Kelly at the State Library. Overall, the author enjoyed their time in Melbourne, noting its rich offerings and friendly locals.\n"
     ]
    }
   ],
   "source": [
    "response = llm.invoke(formatted_prompt)\n",
    "print(response.content)"
   ]
  },
  {
   "cell_type": "markdown",
   "metadata": {},
   "source": [
    "## How to dynamically format a prompt template\n",
    "\n",
    "In the example, we have hardcoded the values for prompt variables. This is not always practical, so explore how we can do this dynamically.\n",
    "\n",
    "We create the dictionary `provided_variables` with the variables we want to include in the prompt. Notice that the first attempt fails with a `KeyError`, because we are missing the `summary_words` variable."
   ]
  },
  {
   "cell_type": "code",
   "execution_count": 11,
   "metadata": {},
   "outputs": [
    {
     "name": "stdout",
     "output_type": "stream",
     "text": [
      "['blogpost', 'summary_language', 'summary_words']\n",
      "Missing variable: 'summary_words'\n"
     ]
    }
   ],
   "source": [
    "prompt_template = PromptTemplate.from_template(template_prompt)\n",
    "required_variables = prompt_template.input_variables\n",
    "print(required_variables)\n",
    "\n",
    "provided_variables = {\"blogpost\": blogpost, \"summary_language\": summary_language}\n",
    "\n",
    "try:\n",
    "    prompt = prompt_template.format(**provided_variables)\n",
    "    print(\"Formatted Prompt:\", prompt[:1100])\n",
    "except KeyError as e:\n",
    "    print(f\"Missing variable: {e}\")"
   ]
  },
  {
   "cell_type": "code",
   "execution_count": 12,
   "metadata": {},
   "outputs": [
    {
     "name": "stdout",
     "output_type": "stream",
     "text": [
      "Formatted Prompt: \n",
      "You are a helpful assistant that translates and summarizes blog posts.\n",
      "\n",
      "Translate the following blog post delimited by triple backticks into English.\n",
      "\n",
      "Then summarize the translated blog post into 100 words.\n",
      "\n",
      "Respond only with the summary in English.\n",
      "\n",
      "Blog post:\n",
      "```---\n",
      "title: '3 Tage in Melbourne'\n",
      "description: \"\"\n",
      "published: 2018-04-13\n",
      "redirect_from: \n",
      "            - https://wittmann-tours.de/3-tage-in-melbourne/\n",
      "categories: \"Aardman, Australien, Australien, Claymation, Melbourne, Ned Kelly, Stadt\"\n",
      "hero: ./img/wp-content-uploads-2018-04-CW-20180124-095738-4825-1-1024x683.jpg\n",
      "---\n",
      "# 3 Tage in Melbourne\n",
      "\n",
      "Auch wenn Canberra die offizielle Hauptstadt Australiens ist, so liefern sich Melbourne und Sydney als die beiden größten Städte des Kontinents ein Wettrennen um die Wahrnehmung als geistige Kapitale des Landes. Nach relativ viel Naturprogramm besuchten wir Melbourne, „[the world's most liveable city](https://www.smh.com.au/business/the-economy/melbourne-named-worlds-most-liveable-city-by-the-economist-for-seventh-year-20170816-gxx1kg.html)“, zu der sie der Economist wiederholt gekürt hat.\n"
     ]
    }
   ],
   "source": [
    "provided_variables = {\"blogpost\": blogpost, \"summary_language\": summary_language, \"summary_words\": summary_words}\n",
    "\n",
    "try:\n",
    "    prompt = prompt_template.format(**provided_variables)\n",
    "    print(\"Formatted Prompt:\", prompt[:1100])\n",
    "except KeyError as e:\n",
    "    print(f\"Missing variable: {e}\")"
   ]
  },
  {
   "cell_type": "markdown",
   "metadata": {},
   "source": [
    "### Translating and summarizing a blog post with chat prompt template\n",
    "\n",
    "When working in chat applications, i.e. multi-turn conversations, it is often easier to work with the `ChatPromptTemplate`. For our example, it is technically not necessary, but since it is used in the lesson, let's see how it works.\n",
    "\n",
    "The main difference is that we do not format a single prompt, but we are working with a list of messages."
   ]
  },
  {
   "cell_type": "code",
   "execution_count": 13,
   "metadata": {},
   "outputs": [
    {
     "name": "stdout",
     "output_type": "stream",
     "text": [
      "\n",
      "You are a helpful assistant that translates and summarizes blog posts.\n",
      "\n",
      "Translate the following blog post delimited by triple backticks into English.\n",
      "\n",
      "Then summarize the translated blog post into 100 words.\n",
      "\n",
      "Respond only with the summary in English.\n",
      "\n",
      "Blog post:\n",
      "```---\n",
      "title: '3 Tage in Melbourne'\n",
      "description: \"\"\n",
      "published: 2018-04-13\n",
      "redirect_from: \n",
      "            - https://wittmann-tours.de/3-tage-in-melbourne/\n",
      "categories: \"Aardman, Australien, Australien, Claymation, Melbourne, Ned Kelly, Stadt\"\n",
      "hero: ./img/wp-content-uploads-2018-04-CW-20180124-095738-4825-1-1024x683.jpg\n",
      "---\n",
      "# 3 Tage in Melbourne\n",
      "\n",
      "Auch wenn Canberra die offizielle Hauptstadt Australiens ist, so liefern sich Melbourne und Sydney als die beiden größten Städte des Kontinents ein Wettrennen um die Wahrnehmung als geistige Kapitale des Landes. Nach relativ viel Naturprogramm besuchten wir Melbourne, „[the world's most liveable city](https://www.smh.com.au/business/the-economy/melbourne-named-worlds-most-liveable-city-by-the-economist-for-seventh-year-20170816-gxx1kg.html)“, zu der sie der Economist wiederholt gekürt hat.\n"
     ]
    }
   ],
   "source": [
    "from langchain.prompts import ChatPromptTemplate\n",
    "\n",
    "chat_prompt_template = ChatPromptTemplate.from_template(template_prompt)\n",
    "\n",
    "formatted_messages = chat_prompt_template.format_messages(blogpost=blogpost, summary_language=summary_language, summary_words=summary_words)\n",
    "\n",
    "print(formatted_messages[0].content[:1100])"
   ]
  },
  {
   "cell_type": "markdown",
   "metadata": {},
   "source": [
    "Using the format messages, the call to the LLM looks the same as we've seen before for a single prompt."
   ]
  },
  {
   "cell_type": "code",
   "execution_count": 14,
   "metadata": {},
   "outputs": [
    {
     "name": "stdout",
     "output_type": "stream",
     "text": [
      "The blog post describes a three-day visit to Melbourne, Australia, highlighting its status as a vibrant cultural hub despite being overshadowed by Sydney. The author appreciates Melbourne's colonial architecture, particularly the Flinders Street Station, and its charming arcades filled with unique shops. The visit coincided with the Australian Open, creating a lively atmosphere throughout the city. The post also explores Melbourne's street art scene, the ACMI Film Museum showcasing Aardman animations, and the Victoria State Library's exhibit on the legendary Ned Kelly. Overall, the author enjoyed their time in Melbourne, noting its rich offerings and friendly locals.\n"
     ]
    }
   ],
   "source": [
    "response = llm.invoke(formatted_messages)\n",
    "print(response.content)"
   ]
  },
  {
   "cell_type": "markdown",
   "metadata": {},
   "source": [
    "## Output Parsers\n",
    "\n",
    "Now, let's focus on the output. To make the example for interesting, let's expand the request to the LLM to also extract the country and the publication date from the blog post.\n",
    "\n",
    "Here are the steps we need to follow:\n",
    "\n",
    "1. We define the response schema. A response schema is the description of a data structure we want the output to contain.\n",
    "2. We combine all the response schemas into a single response schema by adding them to a list.\n",
    "3. W create an output parser from the response schema.\n",
    "4. We can generate the instructions for the LLM and parse the output."
   ]
  },
  {
   "cell_type": "code",
   "execution_count": 15,
   "metadata": {},
   "outputs": [
    {
     "name": "stdout",
     "output_type": "stream",
     "text": [
      "The output should be a markdown code snippet formatted in the following schema, including the leading and trailing \"```json\" and \"```\":\n",
      "\n",
      "```json\n",
      "{\n",
      "\t\"country\": string  // The country of the activities described in the blog post\n",
      "\t\"date_published\": string  // The date the blog post was published\n",
      "\t\"summary\": string  // The summary of the blog post in {summary_language}\n",
      "}\n",
      "```\n"
     ]
    }
   ],
   "source": [
    "from langchain.output_parsers import ResponseSchema\n",
    "from langchain.output_parsers import StructuredOutputParser\n",
    "\n",
    "\n",
    "country_schema = ResponseSchema(name=\"country\", description=\"The country of the activities described in the blog post\")\n",
    "date_published_schema = ResponseSchema(name=\"date_published\", description=\"The date the blog post was published\")\n",
    "summary_schema = ResponseSchema(name=\"summary\", description=\"The summary of the blog post in {summary_language}\")\n",
    "\n",
    "response_schema = [country_schema, date_published_schema, summary_schema]\n",
    "\n",
    "output_parser = StructuredOutputParser.from_response_schemas(response_schema)\n",
    "\n",
    "instructions = output_parser.get_format_instructions()\n",
    "\n",
    "print(instructions)\n",
    "\n"
   ]
  },
  {
   "cell_type": "markdown",
   "metadata": {},
   "source": [
    "Now we can update the prompt template to include the instructions for the output parser."
   ]
  },
  {
   "cell_type": "code",
   "execution_count": 16,
   "metadata": {},
   "outputs": [
    {
     "name": "stdout",
     "output_type": "stream",
     "text": [
      "\n",
      "You are a helpful assistant that translates and summarizes blog posts.\n",
      "\n",
      "Translate the following blog post delimited by triple backticks into English.\n",
      "\n",
      "Then summarize the translated blog post into 100 words.\n",
      "\n",
      "Blog post:\n",
      "```---\n",
      "title: '3 Tage in Melbourne'\n",
      "description: \"\"\n",
      "published: 2018-04-13\n",
      "redirect_from: \n",
      "            - https://wittmann-tours.de/3-tage-in-melbourne/\n",
      "categories: \"Aardman, Australien, Australien, Claymation, Melbourne, Ned Kelly, Stadt\"\n",
      "hero: ./img/wp-content-uploads-2018-04-CW-20180124-095738-4825-1-1024x683.jpg\n",
      "---\n",
      "# 3 Tage in Melbourne\n",
      "\n",
      "Auch wenn Canberra die offizielle Hauptstadt Australiens ist, so liefern sich Melbourne und Sydney als die beiden größten Städte des Kontinents ein Wettrennen um die Wahrnehmung als geistige Kapitale des Landes. Nach relativ viel Naturprogramm besuchten wir Melbourne, „[the world's most liveable city](https://www.smh.com.au/business/the-economy/melbourne-named-worlds-most-liveable-city-by-the-economist-for-seventh-year-20170816-gxx1kg.html)“, zu der sie der Economist wiederholt gekürt hat.\n",
      "\n",
      "\n"
     ]
    }
   ],
   "source": [
    "template_prompt = \"\"\"\n",
    "You are a helpful assistant that translates and summarizes blog posts.\n",
    "\n",
    "Translate the following blog post delimited by triple backticks into {summary_language}.\n",
    "\n",
    "Then summarize the translated blog post into {summary_words} words.\n",
    "\n",
    "Blog post:\n",
    "```{blogpost}```\n",
    "\n",
    "{format_instructions}\n",
    "\"\"\"\n",
    "\n",
    "prompt_template = PromptTemplate.from_template(template_prompt)\n",
    "\n",
    "formatted_prompt = prompt_template.format(blogpost=blogpost, summary_language=summary_language, summary_words=summary_words, format_instructions=instructions)\n",
    "\n",
    "print(formatted_prompt[:1057] + \"\\n\\n\")\n"
   ]
  },
  {
   "cell_type": "markdown",
   "metadata": {},
   "source": [
    "As defined as the prompt lead, the instructions on how to format the output at the end of the prompt"
   ]
  },
  {
   "cell_type": "code",
   "execution_count": 17,
   "metadata": {},
   "outputs": [
    {
     "name": "stdout",
     "output_type": "stream",
     "text": [
      "The output should be a markdown code snippet formatted in the following schema, including the leading and trailing \"```json\" and \"```\":\n",
      "\n",
      "```json\n",
      "{\n",
      "\t\"country\": string  // The country of the activities described in the blog post\n",
      "\t\"date_published\": string  // The date the blog post was published\n",
      "\t\"summary\": string  // The summary of the blog post in {summary_language}\n",
      "}\n",
      "```\n",
      "\n"
     ]
    }
   ],
   "source": [
    "#print(formatted_prompt[len(formatted_prompt)-374:len(formatted_prompt)])\n",
    "print(formatted_prompt[-374:])"
   ]
  },
  {
   "cell_type": "code",
   "execution_count": 18,
   "metadata": {},
   "outputs": [
    {
     "name": "stdout",
     "output_type": "stream",
     "text": [
      "```json\n",
      "{\n",
      "\t\"country\": \"Australia\",\n",
      "\t\"date_published\": \"2018-04-13\",\n",
      "\t\"summary\": \"The blog post describes a 3.5-day visit to Melbourne, Australia, highlighting its status as a vibrant cultural hub. The author explores the city's colonial architecture, including the iconic Flinders Street Station, and its charming arcades filled with unique shops. The visit coincides with the Australian Open, creating a lively atmosphere. Melbourne's street art scene is celebrated, particularly in Hosier Lane, and the ACMI Film Museum showcases Aardman's work. The post also touches on the legend of Ned Kelly at the Victoria State Library. Overall, the author enjoyed their time in this dynamic city.\"\n",
      "}\n",
      "```\n"
     ]
    }
   ],
   "source": [
    "response = llm.invoke(formatted_prompt)\n",
    "print(response.content)"
   ]
  },
  {
   "cell_type": "code",
   "execution_count": 19,
   "metadata": {},
   "outputs": [
    {
     "data": {
      "text/plain": [
       "str"
      ]
     },
     "execution_count": 19,
     "metadata": {},
     "output_type": "execute_result"
    }
   ],
   "source": [
    "type(response.content)"
   ]
  },
  {
   "cell_type": "markdown",
   "metadata": {},
   "source": [
    "The response from the model is still a string, so we need to parse it using the output parser to get a structured output as a dictionary."
   ]
  },
  {
   "cell_type": "code",
   "execution_count": 20,
   "metadata": {},
   "outputs": [
    {
     "name": "stdout",
     "output_type": "stream",
     "text": [
      "dict_keys(['country', 'date_published', 'summary']) \n",
      "\n",
      "country: Australia \n",
      "\n",
      "date_published: 2018-04-13 \n",
      "\n",
      "summary: The blog post describes a 3.5-day visit to Melbourne, Australia, highlighting its status as a vibrant cultural hub. The author explores the city's colonial architecture, including the iconic Flinders Street Station, and its charming arcades filled with unique shops. The visit coincides with the Australian Open, creating a lively atmosphere. Melbourne's street art scene is celebrated, particularly in Hosier Lane, and the ACMI Film Museum showcases Aardman's work. The post also touches on the legend of Ned Kelly at the Victoria State Library. Overall, the author enjoyed their time in this dynamic city. \n",
      "\n"
     ]
    }
   ],
   "source": [
    "output_dict = output_parser.parse(response.content)\n",
    "print(output_dict.keys(), \"\\n\")\n",
    "for key in output_dict.keys():\n",
    "    print(f\"{key}: {output_dict[key]} \\n\")"
   ]
  },
  {
   "cell_type": "markdown",
   "metadata": {},
   "source": [
    "## Summary\n",
    "\n",
    "Wrapping up, we have been how we can structure both the input of our prompt as well as the output returned by the model.\n",
    "\n",
    "In the input side, we have seen how we can use prompt templates, and we discussed the benefits of doing so.\n",
    "\n",
    "On the output side, we have seen how we can use output parsers to structure the output of the model.\n",
    "\n"
   ]
  }
 ],
 "metadata": {
  "kernelspec": {
   "display_name": "base",
   "language": "python",
   "name": "python3"
  },
  "language_info": {
   "codemirror_mode": {
    "name": "ipython",
    "version": 3
   },
   "file_extension": ".py",
   "mimetype": "text/x-python",
   "name": "python",
   "nbconvert_exporter": "python",
   "pygments_lexer": "ipython3",
   "version": "3.10.12"
  }
 },
 "nbformat": 4,
 "nbformat_minor": 2
}
