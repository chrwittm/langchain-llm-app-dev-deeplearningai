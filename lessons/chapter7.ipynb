{
 "cells": [
  {
   "cell_type": "markdown",
   "metadata": {},
   "source": [
    "# Lesson 7\n",
    "\n",
    "[Lesson 7](https://learn.deeplearning.ai/courses/langchain/lesson/7/agents) is All about agents. This is the line chain way of Enabling large language models to use tools.\n",
    "\n",
    " as a toy example, I'm going to Re-implement the calculator two different ways. First, we're going to implement a calculator By just using the pretty fine line chain functions. Afterwards were going to implement it from scratch, defining our own tools, just like in my blog posts [How to Turn GPT into a Calculator](https://chrwittm.github.io/posts/2024-07-30-llm-calculator1/)  - and maybe also in [Building the Apple Calculator in a Jupyter Notebook](https://chrwittm.github.io/posts/2024-08-02-llm-calculator2-vision/).\n",
    "\n"
   ]
  },
  {
   "cell_type": "markdown",
   "metadata": {},
   "source": [
    "## Building a calculator with Langchain"
   ]
  },
  {
   "cell_type": "code",
   "execution_count": 7,
   "metadata": {},
   "outputs": [
    {
     "data": {
      "text/plain": [
       "True"
      ]
     },
     "execution_count": 7,
     "metadata": {},
     "output_type": "execute_result"
    }
   ],
   "source": [
    "import os\n",
    "from dotenv import load_dotenv\n",
    "\n",
    "load_dotenv() #contains the OPENAI_API_KEY"
   ]
  },
  {
   "cell_type": "code",
   "execution_count": 8,
   "metadata": {},
   "outputs": [],
   "source": [
    "from langchain_openai import ChatOpenAI\n",
    "\n",
    "# Initialize the LLM\n",
    "llm = ChatOpenAI(model=\"gpt-4o-mini\", temperature=0)"
   ]
  },
  {
   "cell_type": "code",
   "execution_count": 9,
   "metadata": {},
   "outputs": [],
   "source": [
    "#!pip install numexpr"
   ]
  },
  {
   "cell_type": "code",
   "execution_count": 10,
   "metadata": {},
   "outputs": [
    {
     "name": "stderr",
     "output_type": "stream",
     "text": [
      "/var/folders/cs/g41bp1210qv6w4mt5z465x8c0000gn/T/ipykernel_30264/3335991520.py:5: LangChainDeprecationWarning: The function `initialize_agent` was deprecated in LangChain 0.1.0 and will be removed in 1.0. Use :meth:`~Use new agent constructor methods like create_react_agent, create_json_agent, create_structured_chat_agent, etc.` instead.\n",
      "  agent= initialize_agent(\n"
     ]
    }
   ],
   "source": [
    "from langchain.agents import load_tools, initialize_agent, AgentType\n",
    "\n",
    "tools = load_tools([\"llm-math\"], llm=llm)\n",
    "\n",
    "agent= initialize_agent(\n",
    "    tools, \n",
    "    llm, \n",
    "    agent=AgentType.CHAT_ZERO_SHOT_REACT_DESCRIPTION,\n",
    "    handle_parsing_errors=True,\n",
    "    verbose = True)"
   ]
  },
  {
   "cell_type": "code",
   "execution_count": 11,
   "metadata": {},
   "outputs": [
    {
     "name": "stderr",
     "output_type": "stream",
     "text": [
      "/var/folders/cs/g41bp1210qv6w4mt5z465x8c0000gn/T/ipykernel_30264/2048359261.py:1: LangChainDeprecationWarning: The method `Chain.__call__` was deprecated in langchain 0.1.0 and will be removed in 1.0. Use :meth:`~invoke` instead.\n",
      "  agent(\"What is ( 5647 + 3241 ) / ( 7 * 2 ) + ( ( 657 + 343 ) * 2 )\")\n"
     ]
    },
    {
     "name": "stdout",
     "output_type": "stream",
     "text": [
      "\n",
      "\n",
      "\u001b[1m> Entering new AgentExecutor chain...\u001b[0m\n",
      "\u001b[32;1m\u001b[1;3mThought: I need to calculate the expression step by step. First, I will calculate the sum in the numerator and the product in the denominator, then perform the division, and finally calculate the last part of the expression before adding everything together.\n",
      "\n",
      "Action:\n",
      "```\n",
      "{\n",
      "  \"action\": \"Calculator\",\n",
      "  \"action_input\": \"( 5647 + 3241 ) / ( 7 * 2 ) + ( ( 657 + 343 ) * 2 )\"\n",
      "}\n",
      "```\n",
      "\u001b[0m\n",
      "Observation: \u001b[36;1m\u001b[1;3mAnswer: 2634.857142857143\u001b[0m\n",
      "Thought:\u001b[32;1m\u001b[1;3mI now know the final answer.\n",
      "Final Answer: 2634.857142857143\u001b[0m\n",
      "\n",
      "\u001b[1m> Finished chain.\u001b[0m\n"
     ]
    },
    {
     "data": {
      "text/plain": [
       "{'input': 'What is ( 5647 + 3241 ) / ( 7 * 2 ) + ( ( 657 + 343 ) * 2 )',\n",
       " 'output': '2634.857142857143'}"
      ]
     },
     "execution_count": 11,
     "metadata": {},
     "output_type": "execute_result"
    }
   ],
   "source": [
    "agent(\"What is ( 5647 + 3241 ) / ( 7 * 2 ) + ( ( 657 + 343 ) * 2 )\")"
   ]
  },
  {
   "cell_type": "code",
   "execution_count": 12,
   "metadata": {},
   "outputs": [
    {
     "data": {
      "text/plain": [
       "2634.857142857143"
      ]
     },
     "execution_count": 12,
     "metadata": {},
     "output_type": "execute_result"
    }
   ],
   "source": [
    "( 5647 + 3241 ) / ( 7 * 2 ) + ( ( 657 + 343 ) * 2 )"
   ]
  },
  {
   "cell_type": "code",
   "execution_count": 13,
   "metadata": {},
   "outputs": [
    {
     "name": "stdout",
     "output_type": "stream",
     "text": [
      "\u001b[32;1m\u001b[1;3m[chain/start]\u001b[0m \u001b[1m[chain:AgentExecutor] Entering Chain run with input:\n",
      "\u001b[0m{\n",
      "  \"input\": \"What is ( 5647 + 3241 ) / ( 7 * 2 ) + ( ( 657 + 343 ) * 2 )\"\n",
      "}\n",
      "\u001b[32;1m\u001b[1;3m[chain/start]\u001b[0m \u001b[1m[chain:AgentExecutor > chain:LLMChain] Entering Chain run with input:\n",
      "\u001b[0m{\n",
      "  \"input\": \"What is ( 5647 + 3241 ) / ( 7 * 2 ) + ( ( 657 + 343 ) * 2 )\",\n",
      "  \"agent_scratchpad\": \"\",\n",
      "  \"stop\": [\n",
      "    \"Observation:\"\n",
      "  ]\n",
      "}\n",
      "\u001b[32;1m\u001b[1;3m[llm/start]\u001b[0m \u001b[1m[chain:AgentExecutor > chain:LLMChain > llm:ChatOpenAI] Entering LLM run with input:\n",
      "\u001b[0m{\n",
      "  \"prompts\": [\n",
      "    \"System: Answer the following questions as best you can. You have access to the following tools:\\n\\nCalculator: Useful for when you need to answer questions about math.\\n\\nThe way you use the tools is by specifying a json blob.\\nSpecifically, this json should have a `action` key (with the name of the tool to use) and a `action_input` key (with the input to the tool going here).\\n\\nThe only values that should be in the \\\"action\\\" field are: Calculator\\n\\nThe $JSON_BLOB should only contain a SINGLE action, do NOT return a list of multiple actions. Here is an example of a valid $JSON_BLOB:\\n\\n```\\n{\\n  \\\"action\\\": $TOOL_NAME,\\n  \\\"action_input\\\": $INPUT\\n}\\n```\\n\\nALWAYS use the following format:\\n\\nQuestion: the input question you must answer\\nThought: you should always think about what to do\\nAction:\\n```\\n$JSON_BLOB\\n```\\nObservation: the result of the action\\n... (this Thought/Action/Observation can repeat N times)\\nThought: I now know the final answer\\nFinal Answer: the final answer to the original input question\\n\\nBegin! Reminder to always use the exact characters `Final Answer` when responding.\\nHuman: What is ( 5647 + 3241 ) / ( 7 * 2 ) + ( ( 657 + 343 ) * 2 )\"\n",
      "  ]\n",
      "}\n",
      "\u001b[36;1m\u001b[1;3m[llm/end]\u001b[0m \u001b[1m[chain:AgentExecutor > chain:LLMChain > llm:ChatOpenAI] [1.36s] Exiting LLM run with output:\n",
      "\u001b[0m{\n",
      "  \"generations\": [\n",
      "    [\n",
      "      {\n",
      "        \"text\": \"Thought: I need to calculate the expression step by step. First, I will calculate the sum in the numerator and the product in the denominator, then perform the division, and finally calculate the last part of the expression before adding everything together.\\n\\nAction:\\n```\\n{\\n  \\\"action\\\": \\\"Calculator\\\",\\n  \\\"action_input\\\": \\\"( 5647 + 3241 ) / ( 7 * 2 ) + ( ( 657 + 343 ) * 2 )\\\"\\n}\\n```\\n\",\n",
      "        \"generation_info\": {\n",
      "          \"finish_reason\": \"stop\",\n",
      "          \"logprobs\": null\n",
      "        },\n",
      "        \"type\": \"ChatGeneration\",\n",
      "        \"message\": {\n",
      "          \"lc\": 1,\n",
      "          \"type\": \"constructor\",\n",
      "          \"id\": [\n",
      "            \"langchain\",\n",
      "            \"schema\",\n",
      "            \"messages\",\n",
      "            \"AIMessage\"\n",
      "          ],\n",
      "          \"kwargs\": {\n",
      "            \"content\": \"Thought: I need to calculate the expression step by step. First, I will calculate the sum in the numerator and the product in the denominator, then perform the division, and finally calculate the last part of the expression before adding everything together.\\n\\nAction:\\n```\\n{\\n  \\\"action\\\": \\\"Calculator\\\",\\n  \\\"action_input\\\": \\\"( 5647 + 3241 ) / ( 7 * 2 ) + ( ( 657 + 343 ) * 2 )\\\"\\n}\\n```\\n\",\n",
      "            \"additional_kwargs\": {\n",
      "              \"refusal\": null\n",
      "            },\n",
      "            \"response_metadata\": {\n",
      "              \"token_usage\": {\n",
      "                \"completion_tokens\": 99,\n",
      "                \"prompt_tokens\": 293,\n",
      "                \"total_tokens\": 392,\n",
      "                \"completion_tokens_details\": {\n",
      "                  \"reasoning_tokens\": 0\n",
      "                }\n",
      "              },\n",
      "              \"model_name\": \"gpt-4o-mini-2024-07-18\",\n",
      "              \"system_fingerprint\": \"fp_f85bea6784\",\n",
      "              \"finish_reason\": \"stop\",\n",
      "              \"logprobs\": null\n",
      "            },\n",
      "            \"type\": \"ai\",\n",
      "            \"id\": \"run-b22060f2-fb90-4bcd-864f-d6569c6e8ef1-0\",\n",
      "            \"usage_metadata\": {\n",
      "              \"input_tokens\": 293,\n",
      "              \"output_tokens\": 99,\n",
      "              \"total_tokens\": 392\n",
      "            },\n",
      "            \"tool_calls\": [],\n",
      "            \"invalid_tool_calls\": []\n",
      "          }\n",
      "        }\n",
      "      }\n",
      "    ]\n",
      "  ],\n",
      "  \"llm_output\": {\n",
      "    \"token_usage\": {\n",
      "      \"completion_tokens\": 99,\n",
      "      \"prompt_tokens\": 293,\n",
      "      \"total_tokens\": 392,\n",
      "      \"completion_tokens_details\": {\n",
      "        \"reasoning_tokens\": 0\n",
      "      }\n",
      "    },\n",
      "    \"model_name\": \"gpt-4o-mini-2024-07-18\",\n",
      "    \"system_fingerprint\": \"fp_f85bea6784\"\n",
      "  },\n",
      "  \"run\": null,\n",
      "  \"type\": \"LLMResult\"\n",
      "}\n",
      "\u001b[36;1m\u001b[1;3m[chain/end]\u001b[0m \u001b[1m[chain:AgentExecutor > chain:LLMChain] [1.36s] Exiting Chain run with output:\n",
      "\u001b[0m{\n",
      "  \"text\": \"Thought: I need to calculate the expression step by step. First, I will calculate the sum in the numerator and the product in the denominator, then perform the division, and finally calculate the last part of the expression before adding everything together.\\n\\nAction:\\n```\\n{\\n  \\\"action\\\": \\\"Calculator\\\",\\n  \\\"action_input\\\": \\\"( 5647 + 3241 ) / ( 7 * 2 ) + ( ( 657 + 343 ) * 2 )\\\"\\n}\\n```\\n\"\n",
      "}\n",
      "\u001b[32;1m\u001b[1;3m[tool/start]\u001b[0m \u001b[1m[chain:AgentExecutor > tool:Calculator] Entering Tool run with input:\n",
      "\u001b[0m\"( 5647 + 3241 ) / ( 7 * 2 ) + ( ( 657 + 343 ) * 2 )\"\n",
      "\u001b[32;1m\u001b[1;3m[chain/start]\u001b[0m \u001b[1m[chain:AgentExecutor > tool:Calculator > chain:LLMMathChain] Entering Chain run with input:\n",
      "\u001b[0m{\n",
      "  \"question\": \"( 5647 + 3241 ) / ( 7 * 2 ) + ( ( 657 + 343 ) * 2 )\"\n",
      "}\n",
      "\u001b[32;1m\u001b[1;3m[chain/start]\u001b[0m \u001b[1m[chain:AgentExecutor > tool:Calculator > chain:LLMMathChain > chain:LLMChain] Entering Chain run with input:\n",
      "\u001b[0m{\n",
      "  \"question\": \"( 5647 + 3241 ) / ( 7 * 2 ) + ( ( 657 + 343 ) * 2 )\",\n",
      "  \"stop\": [\n",
      "    \"```output\"\n",
      "  ]\n",
      "}\n",
      "\u001b[32;1m\u001b[1;3m[llm/start]\u001b[0m \u001b[1m[chain:AgentExecutor > tool:Calculator > chain:LLMMathChain > chain:LLMChain > llm:ChatOpenAI] Entering LLM run with input:\n",
      "\u001b[0m{\n",
      "  \"prompts\": [\n",
      "    \"Human: Translate a math problem into a expression that can be executed using Python's numexpr library. Use the output of running this code to answer the question.\\n\\nQuestion: ${Question with math problem.}\\n```text\\n${single line mathematical expression that solves the problem}\\n```\\n...numexpr.evaluate(text)...\\n```output\\n${Output of running the code}\\n```\\nAnswer: ${Answer}\\n\\nBegin.\\n\\nQuestion: What is 37593 * 67?\\n```text\\n37593 * 67\\n```\\n...numexpr.evaluate(\\\"37593 * 67\\\")...\\n```output\\n2518731\\n```\\nAnswer: 2518731\\n\\nQuestion: 37593^(1/5)\\n```text\\n37593**(1/5)\\n```\\n...numexpr.evaluate(\\\"37593**(1/5)\\\")...\\n```output\\n8.222831614237718\\n```\\nAnswer: 8.222831614237718\\n\\nQuestion: ( 5647 + 3241 ) / ( 7 * 2 ) + ( ( 657 + 343 ) * 2 )\"\n",
      "  ]\n",
      "}\n",
      "\u001b[36;1m\u001b[1;3m[llm/end]\u001b[0m \u001b[1m[chain:AgentExecutor > tool:Calculator > chain:LLMMathChain > chain:LLMChain > llm:ChatOpenAI] [1.51s] Exiting LLM run with output:\n",
      "\u001b[0m{\n",
      "  \"generations\": [\n",
      "    [\n",
      "      {\n",
      "        \"text\": \"```text\\n( 5647 + 3241 ) / ( 7 * 2 ) + ( ( 657 + 343 ) * 2 )\\n```\\n...numexpr.evaluate(\\\" ( 5647 + 3241 ) / ( 7 * 2 ) + ( ( 657 + 343 ) * 2 ) \\\")...\\n\",\n",
      "        \"generation_info\": {\n",
      "          \"finish_reason\": \"stop\",\n",
      "          \"logprobs\": null\n",
      "        },\n",
      "        \"type\": \"ChatGeneration\",\n",
      "        \"message\": {\n",
      "          \"lc\": 1,\n",
      "          \"type\": \"constructor\",\n",
      "          \"id\": [\n",
      "            \"langchain\",\n",
      "            \"schema\",\n",
      "            \"messages\",\n",
      "            \"AIMessage\"\n",
      "          ],\n",
      "          \"kwargs\": {\n",
      "            \"content\": \"```text\\n( 5647 + 3241 ) / ( 7 * 2 ) + ( ( 657 + 343 ) * 2 )\\n```\\n...numexpr.evaluate(\\\" ( 5647 + 3241 ) / ( 7 * 2 ) + ( ( 657 + 343 ) * 2 ) \\\")...\\n\",\n",
      "            \"additional_kwargs\": {\n",
      "              \"refusal\": null\n",
      "            },\n",
      "            \"response_metadata\": {\n",
      "              \"token_usage\": {\n",
      "                \"completion_tokens\": 72,\n",
      "                \"prompt_tokens\": 230,\n",
      "                \"total_tokens\": 302,\n",
      "                \"completion_tokens_details\": {\n",
      "                  \"reasoning_tokens\": 0\n",
      "                }\n",
      "              },\n",
      "              \"model_name\": \"gpt-4o-mini-2024-07-18\",\n",
      "              \"system_fingerprint\": \"fp_f85bea6784\",\n",
      "              \"finish_reason\": \"stop\",\n",
      "              \"logprobs\": null\n",
      "            },\n",
      "            \"type\": \"ai\",\n",
      "            \"id\": \"run-607caf0f-70fa-4a9a-883a-fa4a21bebbb8-0\",\n",
      "            \"usage_metadata\": {\n",
      "              \"input_tokens\": 230,\n",
      "              \"output_tokens\": 72,\n",
      "              \"total_tokens\": 302\n",
      "            },\n",
      "            \"tool_calls\": [],\n",
      "            \"invalid_tool_calls\": []\n",
      "          }\n",
      "        }\n",
      "      }\n",
      "    ]\n",
      "  ],\n",
      "  \"llm_output\": {\n",
      "    \"token_usage\": {\n",
      "      \"completion_tokens\": 72,\n",
      "      \"prompt_tokens\": 230,\n",
      "      \"total_tokens\": 302,\n",
      "      \"completion_tokens_details\": {\n",
      "        \"reasoning_tokens\": 0\n",
      "      }\n",
      "    },\n",
      "    \"model_name\": \"gpt-4o-mini-2024-07-18\",\n",
      "    \"system_fingerprint\": \"fp_f85bea6784\"\n",
      "  },\n",
      "  \"run\": null,\n",
      "  \"type\": \"LLMResult\"\n",
      "}\n",
      "\u001b[36;1m\u001b[1;3m[chain/end]\u001b[0m \u001b[1m[chain:AgentExecutor > tool:Calculator > chain:LLMMathChain > chain:LLMChain] [1.52s] Exiting Chain run with output:\n",
      "\u001b[0m{\n",
      "  \"text\": \"```text\\n( 5647 + 3241 ) / ( 7 * 2 ) + ( ( 657 + 343 ) * 2 )\\n```\\n...numexpr.evaluate(\\\" ( 5647 + 3241 ) / ( 7 * 2 ) + ( ( 657 + 343 ) * 2 ) \\\")...\\n\"\n",
      "}\n",
      "\u001b[36;1m\u001b[1;3m[chain/end]\u001b[0m \u001b[1m[chain:AgentExecutor > tool:Calculator > chain:LLMMathChain] [1.52s] Exiting Chain run with output:\n",
      "\u001b[0m{\n",
      "  \"answer\": \"Answer: 2634.857142857143\"\n",
      "}\n",
      "\u001b[36;1m\u001b[1;3m[tool/end]\u001b[0m \u001b[1m[chain:AgentExecutor > tool:Calculator] [1.52s] Exiting Tool run with output:\n",
      "\u001b[0m\"Answer: 2634.857142857143\"\n",
      "\u001b[32;1m\u001b[1;3m[chain/start]\u001b[0m \u001b[1m[chain:AgentExecutor > chain:LLMChain] Entering Chain run with input:\n",
      "\u001b[0m{\n",
      "  \"input\": \"What is ( 5647 + 3241 ) / ( 7 * 2 ) + ( ( 657 + 343 ) * 2 )\",\n",
      "  \"agent_scratchpad\": \"This was your previous work (but I haven't seen any of it! I only see what you return as final answer):\\nThought: I need to calculate the expression step by step. First, I will calculate the sum in the numerator and the product in the denominator, then perform the division, and finally calculate the last part of the expression before adding everything together.\\n\\nAction:\\n```\\n{\\n  \\\"action\\\": \\\"Calculator\\\",\\n  \\\"action_input\\\": \\\"( 5647 + 3241 ) / ( 7 * 2 ) + ( ( 657 + 343 ) * 2 )\\\"\\n}\\n```\\n\\nObservation: Answer: 2634.857142857143\\nThought:\",\n",
      "  \"stop\": [\n",
      "    \"Observation:\"\n",
      "  ]\n",
      "}\n",
      "\u001b[32;1m\u001b[1;3m[llm/start]\u001b[0m \u001b[1m[chain:AgentExecutor > chain:LLMChain > llm:ChatOpenAI] Entering LLM run with input:\n",
      "\u001b[0m{\n",
      "  \"prompts\": [\n",
      "    \"System: Answer the following questions as best you can. You have access to the following tools:\\n\\nCalculator: Useful for when you need to answer questions about math.\\n\\nThe way you use the tools is by specifying a json blob.\\nSpecifically, this json should have a `action` key (with the name of the tool to use) and a `action_input` key (with the input to the tool going here).\\n\\nThe only values that should be in the \\\"action\\\" field are: Calculator\\n\\nThe $JSON_BLOB should only contain a SINGLE action, do NOT return a list of multiple actions. Here is an example of a valid $JSON_BLOB:\\n\\n```\\n{\\n  \\\"action\\\": $TOOL_NAME,\\n  \\\"action_input\\\": $INPUT\\n}\\n```\\n\\nALWAYS use the following format:\\n\\nQuestion: the input question you must answer\\nThought: you should always think about what to do\\nAction:\\n```\\n$JSON_BLOB\\n```\\nObservation: the result of the action\\n... (this Thought/Action/Observation can repeat N times)\\nThought: I now know the final answer\\nFinal Answer: the final answer to the original input question\\n\\nBegin! Reminder to always use the exact characters `Final Answer` when responding.\\nHuman: What is ( 5647 + 3241 ) / ( 7 * 2 ) + ( ( 657 + 343 ) * 2 )\\n\\nThis was your previous work (but I haven't seen any of it! I only see what you return as final answer):\\nThought: I need to calculate the expression step by step. First, I will calculate the sum in the numerator and the product in the denominator, then perform the division, and finally calculate the last part of the expression before adding everything together.\\n\\nAction:\\n```\\n{\\n  \\\"action\\\": \\\"Calculator\\\",\\n  \\\"action_input\\\": \\\"( 5647 + 3241 ) / ( 7 * 2 ) + ( ( 657 + 343 ) * 2 )\\\"\\n}\\n```\\n\\nObservation: Answer: 2634.857142857143\\nThought:\"\n",
      "  ]\n",
      "}\n",
      "\u001b[36;1m\u001b[1;3m[llm/end]\u001b[0m \u001b[1m[chain:AgentExecutor > chain:LLMChain > llm:ChatOpenAI] [652ms] Exiting LLM run with output:\n",
      "\u001b[0m{\n",
      "  \"generations\": [\n",
      "    [\n",
      "      {\n",
      "        \"text\": \"I now know the final answer.\\nFinal Answer: 2634.857142857143\",\n",
      "        \"generation_info\": {\n",
      "          \"finish_reason\": \"stop\",\n",
      "          \"logprobs\": null\n",
      "        },\n",
      "        \"type\": \"ChatGeneration\",\n",
      "        \"message\": {\n",
      "          \"lc\": 1,\n",
      "          \"type\": \"constructor\",\n",
      "          \"id\": [\n",
      "            \"langchain\",\n",
      "            \"schema\",\n",
      "            \"messages\",\n",
      "            \"AIMessage\"\n",
      "          ],\n",
      "          \"kwargs\": {\n",
      "            \"content\": \"I now know the final answer.\\nFinal Answer: 2634.857142857143\",\n",
      "            \"additional_kwargs\": {\n",
      "              \"refusal\": null\n",
      "            },\n",
      "            \"response_metadata\": {\n",
      "              \"token_usage\": {\n",
      "                \"completion_tokens\": 18,\n",
      "                \"prompt_tokens\": 431,\n",
      "                \"total_tokens\": 449,\n",
      "                \"completion_tokens_details\": {\n",
      "                  \"reasoning_tokens\": 0\n",
      "                }\n",
      "              },\n",
      "              \"model_name\": \"gpt-4o-mini-2024-07-18\",\n",
      "              \"system_fingerprint\": \"fp_f85bea6784\",\n",
      "              \"finish_reason\": \"stop\",\n",
      "              \"logprobs\": null\n",
      "            },\n",
      "            \"type\": \"ai\",\n",
      "            \"id\": \"run-75507438-0a89-44a1-b106-3a5a5e7b278a-0\",\n",
      "            \"usage_metadata\": {\n",
      "              \"input_tokens\": 431,\n",
      "              \"output_tokens\": 18,\n",
      "              \"total_tokens\": 449\n",
      "            },\n",
      "            \"tool_calls\": [],\n",
      "            \"invalid_tool_calls\": []\n",
      "          }\n",
      "        }\n",
      "      }\n",
      "    ]\n",
      "  ],\n",
      "  \"llm_output\": {\n",
      "    \"token_usage\": {\n",
      "      \"completion_tokens\": 18,\n",
      "      \"prompt_tokens\": 431,\n",
      "      \"total_tokens\": 449,\n",
      "      \"completion_tokens_details\": {\n",
      "        \"reasoning_tokens\": 0\n",
      "      }\n",
      "    },\n",
      "    \"model_name\": \"gpt-4o-mini-2024-07-18\",\n",
      "    \"system_fingerprint\": \"fp_f85bea6784\"\n",
      "  },\n",
      "  \"run\": null,\n",
      "  \"type\": \"LLMResult\"\n",
      "}\n",
      "\u001b[36;1m\u001b[1;3m[chain/end]\u001b[0m \u001b[1m[chain:AgentExecutor > chain:LLMChain] [653ms] Exiting Chain run with output:\n",
      "\u001b[0m{\n",
      "  \"text\": \"I now know the final answer.\\nFinal Answer: 2634.857142857143\"\n",
      "}\n",
      "\u001b[36;1m\u001b[1;3m[chain/end]\u001b[0m \u001b[1m[chain:AgentExecutor] [3.53s] Exiting Chain run with output:\n",
      "\u001b[0m{\n",
      "  \"output\": \"2634.857142857143\"\n",
      "}\n"
     ]
    }
   ],
   "source": [
    "import langchain\n",
    "\n",
    "langchain.debug=True\n",
    "agent(\"What is ( 5647 + 3241 ) / ( 7 * 2 ) + ( ( 657 + 343 ) * 2 )\")\n",
    "langchain.debug=False"
   ]
  },
  {
   "cell_type": "markdown",
   "metadata": {},
   "source": [
    "## Building a calculator from scratch "
   ]
  },
  {
   "cell_type": "markdown",
   "metadata": {},
   "source": [
    "Let's create a calculator from scratch, using the approach From my blog post [How to Turn GPT into a Calculator](https://chrwittm.github.io/posts/2024-07-30-llm-calculator1/), giving the LLM access to basic arithmetic.\n"
   ]
  },
  {
   "cell_type": "markdown",
   "metadata": {},
   "source": [
    "In analogy to the lesson, I defined the tools like this."
   ]
  },
  {
   "cell_type": "code",
   "execution_count": 14,
   "metadata": {},
   "outputs": [],
   "source": [
    "from langchain.agents import tool\n",
    "\n",
    "@tool\n",
    "def add(a: float, b: float = 1.0) -> str:\n",
    "    \"Adds a + b\"\n",
    "    return str(a + b)\n",
    "\n",
    "@tool\n",
    "def subtract(a: float, b: float = 1.0) -> str:\n",
    "    \"Subtracts a - b\"\n",
    "    return str(a - b)\n",
    "\n",
    "@tool\n",
    "def multiply(a: float, b: float = 1.0) -> str:\n",
    "    \"Multiplies a * b\"\n",
    "    return str(a * b)\n",
    "\n",
    "@tool\n",
    "def divide(a: float, b: float = 1.0) -> str:\n",
    "    \"Divides a / b\"\n",
    "    if b == 0:\n",
    "        return \"Division by zero is not allowed.\"\n",
    "    return str(a / b)"
   ]
  },
  {
   "cell_type": "markdown",
   "metadata": {},
   "source": [
    "As it turned out, the agent type `` Only supports tools with one input parameter. Switching to another agent type solved the problem."
   ]
  },
  {
   "cell_type": "code",
   "execution_count": 20,
   "metadata": {},
   "outputs": [],
   "source": [
    "agent=initialize_agent(\n",
    "    [add, subtract, multiply, divide], \n",
    "    llm, \n",
    "    #agent=AgentType.CHAT_ZERO_SHOT_REACT_DESCRIPTION, #-> does not work\n",
    "    #agent=AgentType.OPENAI_FUNCTIONS, #-> works\n",
    "    agent=AgentType.STRUCTURED_CHAT_ZERO_SHOT_REACT_DESCRIPTION, #-> works\n",
    "    handle_parsing_errors=True,\n",
    "    verbose = True)"
   ]
  },
  {
   "cell_type": "code",
   "execution_count": 21,
   "metadata": {},
   "outputs": [
    {
     "name": "stdout",
     "output_type": "stream",
     "text": [
      "\n",
      "\n",
      "\u001b[1m> Entering new AgentExecutor chain...\u001b[0m\n",
      "\u001b[32;1m\u001b[1;3mThought: I need to break down the expression step by step. First, I will calculate the sum of 5647 and 3241, then the product of 7 and 2, and finally the sum of 657 and 343 multiplied by 2.\n",
      "\n",
      "Action:\n",
      "```\n",
      "{\n",
      "  \"action\": \"add\",\n",
      "  \"action_input\": {\n",
      "    \"a\": 5647,\n",
      "    \"b\": 3241\n",
      "  }\n",
      "}\n",
      "```\n",
      "\u001b[0m\n",
      "Observation: \u001b[36;1m\u001b[1;3m8888.0\u001b[0m\n",
      "Thought:\u001b[32;1m\u001b[1;3mNow that I have the sum of 5647 and 3241, which is 8888, I will calculate the product of 7 and 2.\n",
      "\n",
      "Action:\n",
      "```\n",
      "{\n",
      "  \"action\": \"multiply\",\n",
      "  \"action_input\": {\n",
      "    \"a\": 7,\n",
      "    \"b\": 2\n",
      "  }\n",
      "}\n",
      "```\n",
      "\u001b[0m\n",
      "Observation: \u001b[38;5;200m\u001b[1;3m14.0\u001b[0m\n",
      "Thought:\u001b[32;1m\u001b[1;3mNow that I have the product of 7 and 2, which is 14, I will divide the sum of 5647 and 3241 (which is 8888) by this product (14).\n",
      "\n",
      "Action:\n",
      "```\n",
      "{\n",
      "  \"action\": \"divide\",\n",
      "  \"action_input\": {\n",
      "    \"a\": 8888,\n",
      "    \"b\": 14\n",
      "  }\n",
      "}\n",
      "```\n",
      "\n",
      "\u001b[0m\n",
      "Observation: \u001b[36;1m\u001b[1;3m634.8571428571429\u001b[0m\n",
      "Thought:\u001b[32;1m\u001b[1;3mNow that I have the result of the division, which is approximately 634.86, I will calculate the sum of 657 and 343, and then multiply that result by 2.\n",
      "\n",
      "Action:\n",
      "```\n",
      "{\n",
      "  \"action\": \"add\",\n",
      "  \"action_input\": {\n",
      "    \"a\": 657,\n",
      "    \"b\": 343\n",
      "  }\n",
      "}\n",
      "```\n",
      "\u001b[0m\n",
      "Observation: \u001b[36;1m\u001b[1;3m1000.0\u001b[0m\n",
      "Thought:\u001b[32;1m\u001b[1;3mNow that I have the sum of 657 and 343, which is 1000, I will multiply this result by 2.\n",
      "\n",
      "Action:\n",
      "```\n",
      "{\n",
      "  \"action\": \"multiply\",\n",
      "  \"action_input\": {\n",
      "    \"a\": 1000,\n",
      "    \"b\": 2\n",
      "  }\n",
      "}\n",
      "```\n",
      "\n",
      "\u001b[0m\n",
      "Observation: \u001b[38;5;200m\u001b[1;3m2000.0\u001b[0m\n",
      "Thought:\u001b[32;1m\u001b[1;3mNow that I have the result of the multiplication, which is 2000, I will add this to the result of the division (approximately 634.86).\n",
      "\n",
      "Action:\n",
      "```\n",
      "{\n",
      "  \"action\": \"add\",\n",
      "  \"action_input\": {\n",
      "    \"a\": 634.8571428571429,\n",
      "    \"b\": 2000\n",
      "  }\n",
      "}\n",
      "```\n",
      "\n",
      "\u001b[0m\n",
      "Observation: \u001b[36;1m\u001b[1;3m2634.857142857143\u001b[0m\n",
      "Thought:\u001b[32;1m\u001b[1;3mI have completed the calculations and the final result is approximately 2634.86. \n",
      "\n",
      "Action:\n",
      "```\n",
      "{\n",
      "  \"action\": \"Final Answer\",\n",
      "  \"action_input\": \"The result of the expression ( 5647 + 3241 ) / ( 7 * 2 ) + ( ( 657 + 343 ) * 2 ) is approximately 2634.86.\"\n",
      "}\n",
      "```\n",
      "\u001b[0m\n",
      "\n",
      "\u001b[1m> Finished chain.\u001b[0m\n"
     ]
    },
    {
     "data": {
      "text/plain": [
       "{'input': 'What is ( 5647 + 3241 ) / ( 7 * 2 ) + ( ( 657 + 343 ) * 2 )',\n",
       " 'output': 'The result of the expression ( 5647 + 3241 ) / ( 7 * 2 ) + ( ( 657 + 343 ) * 2 ) is approximately 2634.86.'}"
      ]
     },
     "execution_count": 21,
     "metadata": {},
     "output_type": "execute_result"
    }
   ],
   "source": [
    "agent(\"What is ( 5647 + 3241 ) / ( 7 * 2 ) + ( ( 657 + 343 ) * 2 )\")"
   ]
  },
  {
   "cell_type": "code",
   "execution_count": 18,
   "metadata": {},
   "outputs": [
    {
     "data": {
      "text/plain": [
       "2634.857142857143"
      ]
     },
     "execution_count": 18,
     "metadata": {},
     "output_type": "execute_result"
    }
   ],
   "source": [
    "( 5647 + 3241 ) / ( 7 * 2 ) + ( ( 657 + 343 ) * 2 )"
   ]
  },
  {
   "cell_type": "markdown",
   "metadata": {},
   "source": [
    "The result is correct, and the choice of the right agent definitely matters, so what type of agents are there and how can we choose?"
   ]
  },
  {
   "cell_type": "code",
   "execution_count": 22,
   "metadata": {},
   "outputs": [
    {
     "data": {
      "text/plain": [
       "<enum 'AgentType'>"
      ]
     },
     "execution_count": 22,
     "metadata": {},
     "output_type": "execute_result"
    }
   ],
   "source": [
    "AgentType"
   ]
  },
  {
   "cell_type": "code",
   "execution_count": 23,
   "metadata": {},
   "outputs": [
    {
     "name": "stdout",
     "output_type": "stream",
     "text": [
      "Available Agent Types:\n",
      "- zero-shot-react-description\n",
      "- react-docstore\n",
      "- self-ask-with-search\n",
      "- conversational-react-description\n",
      "- chat-zero-shot-react-description\n",
      "- chat-conversational-react-description\n",
      "- structured-chat-zero-shot-react-description\n",
      "- openai-functions\n",
      "- openai-multi-functions\n"
     ]
    }
   ],
   "source": [
    "print(\"Available Agent Types:\")\n",
    "for agent in AgentType:\n",
    "    print(f\"- {agent}\")"
   ]
  },
  {
   "cell_type": "code",
   "execution_count": 24,
   "metadata": {},
   "outputs": [
    {
     "name": "stdout",
     "output_type": "stream",
     "text": [
      "Help on class AgentType in module langchain.agents.agent_types:\n",
      "\n",
      "class AgentType(builtins.str, enum.Enum)\n",
      " |  AgentType(value, names=None, *, module=None, qualname=None, type=None, start=1)\n",
      " |  \n",
      " |  .. deprecated:: 0.1.0 Use new agent constructor methods like create_react_agent, create_json_agent, create_structured_chat_agent, etc.\n",
      " |  \n",
      " |  An enum for agent types.\n",
      " |  \n",
      " |  See documentation: https://python.langchain.com/docs/modules/agents/agent_types/\n",
      " |  \n",
      " |  Method resolution order:\n",
      " |      AgentType\n",
      " |      builtins.str\n",
      " |      enum.Enum\n",
      " |      builtins.object\n",
      " |  \n",
      " |  Data and other attributes defined here:\n",
      " |  \n",
      " |  CHAT_CONVERSATIONAL_REACT_DESCRIPTION = <AgentType.CHAT_CONVERSATIONAL...\n",
      " |  \n",
      " |  CHAT_ZERO_SHOT_REACT_DESCRIPTION = <AgentType.CHAT_ZERO_SHOT_REACT_DES...\n",
      " |  \n",
      " |  CONVERSATIONAL_REACT_DESCRIPTION = <AgentType.CONVERSATIONAL_REACT_DES...\n",
      " |  \n",
      " |  OPENAI_FUNCTIONS = <AgentType.OPENAI_FUNCTIONS: 'openai-functions'>\n",
      " |  \n",
      " |  OPENAI_MULTI_FUNCTIONS = <AgentType.OPENAI_MULTI_FUNCTIONS: 'openai-mu...\n",
      " |  \n",
      " |  REACT_DOCSTORE = <AgentType.REACT_DOCSTORE: 'react-docstore'>\n",
      " |  \n",
      " |  SELF_ASK_WITH_SEARCH = <AgentType.SELF_ASK_WITH_SEARCH: 'self-ask-with...\n",
      " |  \n",
      " |  STRUCTURED_CHAT_ZERO_SHOT_REACT_DESCRIPTION = <AgentType.STRUCTURED_CH...\n",
      " |  \n",
      " |  ZERO_SHOT_REACT_DESCRIPTION = <AgentType.ZERO_SHOT_REACT_DESCRIPTION: ...\n",
      " |  \n",
      " |  ----------------------------------------------------------------------\n",
      " |  Data descriptors inherited from enum.Enum:\n",
      " |  \n",
      " |  name\n",
      " |      The name of the Enum member.\n",
      " |  \n",
      " |  value\n",
      " |      The value of the Enum member.\n",
      " |  \n",
      " |  ----------------------------------------------------------------------\n",
      " |  Readonly properties inherited from enum.EnumMeta:\n",
      " |  \n",
      " |  __members__\n",
      " |      Returns a mapping of member name->value.\n",
      " |      \n",
      " |      This mapping lists all enum members, including aliases. Note that this\n",
      " |      is a read-only view of the internal mapping.\n",
      "\n"
     ]
    }
   ],
   "source": [
    "help(AgentType)"
   ]
  },
  {
   "cell_type": "markdown",
   "metadata": {},
   "source": [
    "Here is another example of Lang chain, moving fast: the Link in the documentation does not exist anymore.\n",
    "\n",
    "Doing a quick search revealed: https://python.langchain.com/docs/how_to/agent_executor/, so there is a lot more to explore!\n",
    "\n"
   ]
  }
 ],
 "metadata": {
  "kernelspec": {
   "display_name": "base",
   "language": "python",
   "name": "python3"
  },
  "language_info": {
   "codemirror_mode": {
    "name": "ipython",
    "version": 3
   },
   "file_extension": ".py",
   "mimetype": "text/x-python",
   "name": "python",
   "nbconvert_exporter": "python",
   "pygments_lexer": "ipython3",
   "version": "3.10.12"
  }
 },
 "nbformat": 4,
 "nbformat_minor": 2
}
